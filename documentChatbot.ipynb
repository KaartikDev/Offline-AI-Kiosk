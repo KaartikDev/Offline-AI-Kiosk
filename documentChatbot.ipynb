{
 "cells": [
  {
   "cell_type": "markdown",
   "id": "4cf9273e",
   "metadata": {},
   "source": [
    "### Dependancies\n",
    "\n",
    "\n",
    "Create and activate virtual enviroment first!\n",
    "\n",
    "```\n",
    "python3 -m venv venv\n",
    "source venv/bin/activate\n",
    "```\n",
    "\n",
    "Select Kernel in IDE\n",
    "\n",
    "Pip installs:\n",
    "```\n",
    "!pip install jupyter\n",
    "!pip install\n",
    "!pip install -U langchain langchain-ollama langchain-community langchain-text-splitters faiss-cpu pypdf\n",
    "!pip install -U ipykernel\n",
    "```\n",
    "\n",
    "Download and run ollama from internet. Import modesl:\n",
    "```\n",
    "!ollama pull llama3.1\n",
    "!ollama pull nomic-embed-text\n",
    "```"
   ]
  },
  {
   "cell_type": "code",
   "execution_count": null,
   "id": "8147302e",
   "metadata": {},
   "outputs": [],
   "source": [
    "# UNCOMMENT ME :)\n",
    "\n",
    "\n",
    "# !python3 -m venv venv\n",
    "# !source venv/bin/activate\n",
    "# !pip install jupyter\n",
    "# !pip install\n",
    "# !pip install -U langchain langchain-ollama langchain-community langchain-text-splitters faiss-cpu pypdf\n",
    "#!pip install -U ipykernel\n",
    "# !ollama pull llama3.1\n",
    "# !ollama pull nomic-embed-text\n",
    "\n"
   ]
  },
  {
   "cell_type": "markdown",
   "id": "153997aa",
   "metadata": {},
   "source": [
    "### Load Document"
   ]
  },
  {
   "cell_type": "code",
   "execution_count": 2,
   "id": "416ba391",
   "metadata": {},
   "outputs": [
    {
     "name": "stdout",
     "output_type": "stream",
     "text": [
      "The number of pages is 121\n",
      "\n",
      "The first page's first 200 characters is:\n",
      "UNITED STATES\n",
      "SECURITIES AND EXCHANGE COMMISSION\n",
      "Washington, D.C. 20549\n",
      "FORM 10-K\n",
      "(Mark One)\n",
      "☒  ANNUAL REPORT PURSUANT TO SECTION 13 OR 15(d) OF THE SECURITIES EXCHANGE ACT OF 1934\n",
      "For the fiscal year\n",
      "\n",
      "The metadata is {'producer': 'EDGRpdf Service w/ EO.Pdf 22.0.40.0', 'creator': 'EDGAR Filing HTML Converter', 'creationdate': '2024-11-01T06:05:37-04:00', 'title': '0000320193-24-000123', 'author': 'EDGAR® Online LLC, a subsidiary of OTC Markets Group', 'subject': 'Form 10-K filed on 2024-11-01 for the period ending 2024-09-28', 'keywords': '0000320193-24-000123; ; 10-K', 'moddate': '2024-11-01T06:06:09-04:00', 'source': 'Apple10k.pdf', 'total_pages': 121, 'page': 0, 'page_label': '1'}\n"
     ]
    }
   ],
   "source": [
    "\n",
    "from langchain_community.document_loaders import PyPDFLoader\n",
    "\n",
    "file_path = \"Apple10k.pdf\"\n",
    "loader = PyPDFLoader(file_path)\n",
    "\n",
    "docs = loader.load()\n",
    "\n",
    "# The number of pages\n",
    "print(f\"The number of pages is {len(docs)}\")\n",
    "print()\n",
    "print(f\"The first page's first 200 characters is:\\n{docs[0].page_content[:200]}\\n\")\n",
    " \n",
    "print(f\"The metadata is {docs[0].metadata}\")\n",
    "\n"
   ]
  },
  {
   "cell_type": "markdown",
   "id": "950eb3ae",
   "metadata": {},
   "source": [
    "### Split the document into chunks"
   ]
  },
  {
   "cell_type": "code",
   "execution_count": 3,
   "id": "438f25c6",
   "metadata": {},
   "outputs": [
    {
     "name": "stdout",
     "output_type": "stream",
     "text": [
      "Performing character based splitting\n",
      "The number of total splits(chunks) is 549\n"
     ]
    }
   ],
   "source": [
    "from langchain_text_splitters import RecursiveCharacterTextSplitter\n",
    "#Character based splitting, token based splitting is also avaible\n",
    "#Overlap ensures context is not lost\n",
    "text_splitter = RecursiveCharacterTextSplitter(\n",
    "    chunk_size=1000, chunk_overlap=200, add_start_index=True\n",
    ")\n",
    "all_splits = text_splitter.split_documents(docs)\n",
    "print(\"Performing character based splitting\")\n",
    "print(f\"The number of total splits(chunks) is {len(all_splits)}\")"
   ]
  },
  {
   "cell_type": "markdown",
   "id": "89ecc1b6",
   "metadata": {},
   "source": [
    "### Initialize Embedding Model"
   ]
  },
  {
   "cell_type": "code",
   "execution_count": 4,
   "id": "436fc646",
   "metadata": {},
   "outputs": [],
   "source": [
    "from langchain_ollama import OllamaEmbeddings\n",
    "\n",
    "embed = OllamaEmbeddings(\n",
    "    model=\"nomic-embed-text\"\n",
    ")\n"
   ]
  },
  {
   "cell_type": "markdown",
   "id": "8ca587a3",
   "metadata": {},
   "source": [
    "### Create the vector store (Embed Chunks)"
   ]
  },
  {
   "cell_type": "code",
   "execution_count": 5,
   "id": "878b9cd6",
   "metadata": {},
   "outputs": [],
   "source": [
    "import faiss\n",
    "from langchain_community.docstore.in_memory import InMemoryDocstore\n",
    "from langchain_community.vectorstores import FAISS\n",
    "\n",
    "\n",
    "\"\"\" Facebook AI Similarity Search (FAISS) is a library for efficient similarity search and clustering of dense vectors.\n",
    "It contains algorithms that search in sets of vectors of any size, up to ones that possibly do not fit in RAM. \n",
    "It also includes supporting code for evaluation and parameter tuning.\"\"\"\n",
    "\n",
    "#Determine dimnesions of embedding vectors dynamically by testing an example string\n",
    "embedding_dim = len(embed.embed_query(\"hello world\"))\n",
    "#initlize a flat faiis store that uses L1\n",
    "index = faiss.IndexFlatL2(embedding_dim)\n",
    "#Constructing a vector store instance\n",
    "vector_store = FAISS(\n",
    "    embedding_function=embed,\n",
    "    index=index,\n",
    "    docstore=InMemoryDocstore(),\n",
    "    index_to_docstore_id={},\n",
    ")\n",
    "#Populating with our vectors\n",
    "ids = vector_store.add_documents(documents=all_splits)\n",
    "\n"
   ]
  },
  {
   "cell_type": "code",
   "execution_count": 6,
   "id": "03b520dd",
   "metadata": {},
   "outputs": [
    {
     "name": "stdout",
     "output_type": "stream",
     "text": [
      "\n",
      "Searching for documents relevant to: 'How much does apple make?'\n",
      "\n",
      "Found the following relevant chunks:\n",
      "\n",
      "--- Result 1 ---\n",
      "Apple Inc.\n",
      "CONSOLIDATED STATEMENTS OF OPERATIONS(In millions, except number of shares, which are reflected in thousands, and per-share amounts)\n",
      "Years ended\n",
      "September 28,2024 September 30,2023 September 24,2022\n",
      "Net sales:\n",
      "   Products $ 294,866 $ 298,085 $ 316,199 \n",
      "   Services 96,169 85,200 78,129 \n",
      "Total net sales 391,035 383,285 394,328 \n",
      "Cost of sales:\n",
      "   Products 185,233 189,282 201,471 \n",
      "   Services 25,119 24,855 22,075 \n",
      "Total cost of sales 210,352 214,137 223,546 \n",
      "Gross margin 180,683 169,148 170,782 \n",
      "Operating expenses:\n",
      "Research and development 31,370 29,915 26,251 \n",
      "Selling, general and administrative 26,097 24,932 25,094 \n",
      "Total operating expenses 57,467 54,847 51,345 \n",
      "Operating income 123,216 114,301 119,437 \n",
      "Other income/(expense), net 269 (565) (334)\n",
      "Income before provision for income taxes 123,485 113,736 119,103 \n",
      "Provision for income taxes 29,749 16,741 19,300 \n",
      "Net income $ 93,736 $ 96,995 $ 99,803 \n",
      "Earnings per share:\n",
      "Basic $ 6.11 $ 6.16 $ 6.15 \n",
      "Diluted $ 6.08 $ 6.13 $ 6.11\n",
      "\n",
      "--- Result 2 ---\n",
      "Subtotal 132,108 583 (4,635) 128,056 1,966 34,611 91,479 \n",
      "Total $ 160,600 $ 688 $ (4,638) $ 156,650 $ 29,943 $ 35,228 $ 91,479 \n",
      "(1)\n",
      "(2)(3)\n",
      "Apple Inc. | 2024 Form 10-K | 36\n",
      "\n",
      "--- Result 3 ---\n",
      "Total change in unrealized gains/losses on marketable debt securities6,054 1,816 (11,899)\n",
      "Total other comprehensive income/(loss) 4,280 (343) (11,272)\n",
      "Total comprehensive income $ 98,016 $ 96,652 $ 88,531 \n",
      "See accompanying Notes to Consolidated Financial Statements.\n",
      "Apple Inc. | 2024 Form 10-K | 30\n",
      "\n",
      "--- Result 4 ---\n",
      "Apple Inc.\n",
      "CONSOLIDATED STATEMENTS OF COMPREHENSIVE INCOME(In millions)\n",
      "Years ended\n",
      "September 28,2024 September 30,2023 September 24,2022\n",
      "Net income $ 93,736 $ 96,995 $ 99,803 \n",
      "Other comprehensive income/(loss):\n",
      "Change in foreign currency translation, net of tax 395 (765) (1,511)\n",
      "Change in unrealized gains/losses on derivative instruments, net of tax:\n",
      "Change in fair value of derivative instruments (832) 323 3,212 \n",
      "Adjustment for net (gains)/losses realized and included in net income(1,337) (1,717) (1,074)\n",
      "Total change in unrealized gains/losses on derivative instruments(2,169) (1,394) 2,138 \n",
      "Change in unrealized gains/losses on marketable debt securities, net of tax:\n",
      "Change in fair value of marketable debt securities 5,850 1,563 (12,104)\n",
      "Adjustment for net (gains)/losses realized and included in net income204 253 205 \n",
      "Total change in unrealized gains/losses on marketable debt securities6,054 1,816 (11,899)\n",
      "Total other comprehensive income/(loss) 4,280 (343) (11,272)\n",
      "\n",
      "--- Result 5 ---\n",
      "Apple Inc.\n",
      "CONSOLIDATED STATEMENTS OF CASH FLOWS\n",
      "(In millions)\n",
      "Years ended\n",
      "September 28,2024 September 30,2023 September 24,2022\n",
      "Cash, cash equivalents, and restricted cash and cash equivalents, beginning balances $ 30,737 $ 24,977 $ 35,929 \n",
      "Operating activities:\n",
      "Net income 93,736 96,995 99,803 \n",
      "Adjustments to reconcile net income to cash generated by operating activities:\n",
      "Depreciation and amortization 11,445 11,519 11,104 \n",
      "Share-based compensation expense 11,688 10,833 9,038 \n",
      "Other (2,266) (2,227) 1,006 \n",
      "Changes in operating assets and liabilities:\n",
      "Accounts receivable, net (3,788) (1,688) (1,823)\n",
      "Vendor non-trade receivables (1,356) 1,271 (7,520)\n",
      "Inventories (1,046) (1,618) 1,484 \n",
      "Other current and non-current assets (11,731) (5,684) (6,499)\n",
      "Accounts payable 6,020 (1,889) 9,448 \n",
      "Other current and non-current liabilities 15,552 3,031 6,110 \n",
      "Cash generated by operating activities 118,254 110,543 122,151 \n",
      "Investing activities:\n",
      "Purchases of marketable securities (48,656) (29,513) (76,923)\n"
     ]
    }
   ],
   "source": [
    "#test question\n",
    "question = \"How much does apple make?\"\n",
    "\n",
    "print(f\"\\nSearching for documents relevant to: '{question}'\")\n",
    "# Use the vector store to find similar documents\n",
    "# It automatically embeds the user's question and compares it to the chunk vectors.\n",
    "results = vector_store.similarity_search(query=question,k=5)\n",
    "\n",
    "\n",
    "#  Inspect the Results ---\n",
    "\n",
    "print(\"\\nFound the following relevant chunks:\")\n",
    "for i, doc in enumerate(results):\n",
    "    print(f\"\\n--- Result {i+1} ---\")\n",
    "    print(doc.page_content)\n",
    "\n"
   ]
  },
  {
   "cell_type": "markdown",
   "id": "940a993a",
   "metadata": {},
   "source": [
    "### Setting Up LLM"
   ]
  },
  {
   "cell_type": "code",
   "execution_count": 14,
   "id": "921acf4e",
   "metadata": {},
   "outputs": [],
   "source": [
    "from langchain_ollama import ChatOllama\n",
    "\n",
    "#Doing smaller model for dev speed\n",
    "llm = ChatOllama(model=\"llama3.1\")"
   ]
  },
  {
   "cell_type": "markdown",
   "id": "1a53bfdc",
   "metadata": {},
   "source": [
    "### Setting Up System Prompt"
   ]
  },
  {
   "cell_type": "code",
   "execution_count": 15,
   "id": "c1cde559",
   "metadata": {},
   "outputs": [],
   "source": [
    "from langchain_core.prompts import ChatPromptTemplate\n",
    "\n",
    "\n",
    "system_prompt = \"\"\"\n",
    "        You are an AI that will answer questions about Apple's financial history.\n",
    "        If an answer is unknown, simply state that and refrain from speculation.\n",
    "        Cite relevant  sections, acts, or provisions in your response.\n",
    "\n",
    "        Previous conversations:\n",
    "        {history}\n",
    "\n",
    "        Document context:\n",
    "        {context}\n",
    "    \"\"\"\n",
    "\n",
    "qa_prompt = ChatPromptTemplate.from_messages(\n",
    "        [\n",
    "            (\"system\", system_prompt),\n",
    "            (\"human\", \"{input}\"),\n",
    "        ]\n",
    "    )\n"
   ]
  },
  {
   "cell_type": "markdown",
   "id": "950131a2",
   "metadata": {},
   "source": [
    "### Defining Chaining Function"
   ]
  },
  {
   "cell_type": "code",
   "execution_count": 18,
   "id": "bf07e008",
   "metadata": {},
   "outputs": [],
   "source": [
    "from langchain_core.runnables import RunnablePassthrough\n",
    "from langchain_core.messages import BaseMessage\n",
    "\n",
    "def chainingFunction():\n",
    "    retriever = vector_store.as_retriever()\n",
    "    history = []  # list of {\"role\": ..., \"content\": ...} with STRINGS\n",
    "\n",
    "    while True:\n",
    "        query = input(\"Question:\")\n",
    "        print(\"User:\", query, \"\\n\")\n",
    "        if query.lower() in [\"quit\",\"exit\",\"bye\"]:\n",
    "            print(\"Bot: Goodbye!\")\n",
    "            break\n",
    "\n",
    "        # store user turn as a simple string\n",
    "        history.append({\"role\": \"user\", \"content\": query})\n",
    "\n",
    "        # retrieve\n",
    "        if query:\n",
    "            relevant_docs = retriever.invoke(query)\n",
    "            context_documents_str = \"\\n\\n\".join(doc.page_content for doc in relevant_docs)\n",
    "        else:\n",
    "            context_documents_str = \"\"\n",
    "\n",
    "        qa_prompt_local = qa_prompt.partial(\n",
    "            history=history,                # will be interpolated into the system template\n",
    "            context=context_documents_str\n",
    "        )\n",
    "\n",
    "        llm_chain = {\"input\": RunnablePassthrough()} | qa_prompt_local | llm\n",
    "\n",
    "        result = llm_chain.invoke(query)   # often an AIMessage/BaseMessage\n",
    "\n",
    "        # normalize to string for history + printing\n",
    "        if isinstance(result, BaseMessage):\n",
    "            answer_text = result.content\n",
    "        else:\n",
    "            answer_text = str(result)\n",
    "\n",
    "        history.append({\"role\": \"assistant\", \"content\": answer_text})\n",
    "\n",
    "        print(\"Bot:\", answer_text, \"\\n\\n\")\n"
   ]
  },
  {
   "cell_type": "markdown",
   "id": "e01aac0a",
   "metadata": {},
   "source": [
    "### Calling Function"
   ]
  },
  {
   "cell_type": "code",
   "execution_count": 20,
   "id": "4d46e7ef",
   "metadata": {},
   "outputs": [
    {
     "name": "stdout",
     "output_type": "stream",
     "text": [
      "User: What was Apples Sales? \n",
      "\n",
      "Bot: According to Apple's Consolidated Statements of Operations, as shown in the provided document, Apple's total net sales for:\n",
      "\n",
      "* The year ended September 28, 2024: $391,035 million\n",
      "* The year ended September 30, 2023: $383,285 million\n",
      "* The year ended September 24, 2022: $394,328 million \n",
      "\n",
      "\n",
      "User: What was microsofts sales? \n",
      "\n",
      "Bot: Unfortunately, I don't have any information about Microsoft's sales from the provided context or previous conversations. The conversation has only discussed Apple's financial history and sales figures. If you'd like to know more about Apple's sales or other related questions, I'll be happy to help! \n",
      "\n",
      "\n",
      "User: What is Apples Strategy? \n",
      "\n",
      "Bot: According to Apple's 2024 Form 10-K, the Company's strategy involves managing various risks such as:\n",
      "\n",
      "1. Competition: The company competes in a highly competitive market with aggressive price competition and frequent introduction of new products and services.\n",
      "2. Inventory management: Managing purchase commitments and inventory levels in line with anticipated product demand to ensure adequate availability at expected costs.\n",
      "3. Product innovation: Successfully introducing and transitioning new products and services, which may require managing quality or other defects/deficiencies.\n",
      "4. Foreign exchange rate risk: Hedging gross margins against fluctuations in foreign exchange rates through the use of forwards, options, or other instruments.\n",
      "\n",
      "In terms of their overall strategy, Apple's Form 10-K mentions that they evaluate the performance of their reportable segments based on net sales and operating income. However, it does not provide a comprehensive description of their overall business strategy. \n",
      "\n",
      "\n",
      "User: What is nvidias strategy? \n",
      "\n",
      "Bot: Unfortunately, I don't have any information about NVIDIA's strategy from the provided context or previous conversations. The conversation has only discussed Apple's financial history and sales figures, as well as a brief mention of Apple's strategy in their 2024 Form 10-K.\n",
      "\n",
      "However, based on the document context you provided, it appears to be part of Apple's 2024 Form 10-K report. It discusses various business risks that Apple faces, including competition from companies like NVIDIA, but it doesn't provide information about NVIDIA's specific strategy.\n",
      "\n",
      "If you're looking for information about NVIDIA's strategy, I would recommend checking their official website or annual reports (such as their Form 10-K) to get a better understanding of their business approach. \n",
      "\n",
      "\n",
      "User: exit \n",
      "\n",
      "Bot: Goodbye!\n"
     ]
    }
   ],
   "source": [
    "chainingFunction()\n"
   ]
  }
 ],
 "metadata": {
  "kernelspec": {
   "display_name": "Python 3",
   "language": "python",
   "name": "python3"
  },
  "language_info": {
   "codemirror_mode": {
    "name": "ipython",
    "version": 3
   },
   "file_extension": ".py",
   "mimetype": "text/x-python",
   "name": "python",
   "nbconvert_exporter": "python",
   "pygments_lexer": "ipython3",
   "version": "3.13.5"
  }
 },
 "nbformat": 4,
 "nbformat_minor": 5
}
