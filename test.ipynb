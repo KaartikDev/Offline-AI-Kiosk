{
 "cells": [
  {
   "cell_type": "markdown",
   "id": "4cf9273e",
   "metadata": {},
   "source": [
    "### Dependancy\n",
    "\n",
    "\n",
    "Create and activate virtual enviroment first!\n",
    "```\n",
    "python3 -m venv venv\n",
    "source venv/bin/activate\n",
    "```\n",
    "\n",
    "Select Kernel in IDE\n",
    "\n",
    "Pip innstals:\n",
    "```\n",
    "!pip install jupyter\n",
    "```"
   ]
  },
  {
   "cell_type": "markdown",
   "id": "153997aa",
   "metadata": {},
   "source": [
    "### Test"
   ]
  },
  {
   "cell_type": "code",
   "execution_count": 3,
   "id": "bc66a232",
   "metadata": {},
   "outputs": [
    {
     "name": "stdout",
     "output_type": "stream",
     "text": [
      "HI\n"
     ]
    }
   ],
   "source": [
    "print(\"HI\")"
   ]
  },
  {
   "cell_type": "code",
   "execution_count": null,
   "id": "108dbab3",
   "metadata": {},
   "outputs": [],
   "source": []
  }
 ],
 "metadata": {
  "kernelspec": {
   "display_name": "venv",
   "language": "python",
   "name": "python3"
  },
  "language_info": {
   "codemirror_mode": {
    "name": "ipython",
    "version": 3
   },
   "file_extension": ".py",
   "mimetype": "text/x-python",
   "name": "python",
   "nbconvert_exporter": "python",
   "pygments_lexer": "ipython3",
   "version": "3.13.5"
  }
 },
 "nbformat": 4,
 "nbformat_minor": 5
}
