{
 "cells": [
  {
   "cell_type": "markdown",
   "id": "cd6f7f1a",
   "metadata": {},
   "source": [
    "### Intro\n",
    "\n",
    "This python notebook callse gte-lite to emebed short sentances. these sentances are used in the manifest of each knowledge pack to describe it. "
   ]
  },
  {
   "cell_type": "markdown",
   "id": "0e97266e",
   "metadata": {},
   "source": [
    "### Dependancies\n",
    "\n",
    "\n",
    "Create and activate virtual enviroment first!\n",
    "\n",
    "```\n",
    "python3 -m venv venv\n",
    "source venv/bin/activate\n",
    "```\n",
    "\n",
    "Select Kernel in IDE\n",
    "\n",
    "Pip installs:\n",
    "```\n",
    "!pip install jupyter\n",
    "!pip install\n",
    "!pip install -U langchain langchain-ollama langchain-community langchain-text-splitters faiss-cpu pypdf\n",
    "!pip install -U ipykernel\n",
    "```\n",
    "\n",
    "Download and run ollama from internet. Import modesl:\n",
    "```\n",
    "!ollama pull granite-embedding:30m\n",
    "```"
   ]
  },
  {
   "cell_type": "markdown",
   "id": "b29bb8d8",
   "metadata": {},
   "source": [
    "### Initialize Embedding Model"
   ]
  },
  {
   "cell_type": "code",
   "execution_count": null,
   "id": "738a4d9b",
   "metadata": {},
   "outputs": [],
   "source": [
    "from langchain_ollama import OllamaEmbeddings\n",
    "\n",
    "embed = OllamaEmbeddings(\n",
    "    model=\"granite-embedding:30m\"\n",
    ")\n"
   ]
  },
  {
   "cell_type": "code",
   "execution_count": null,
   "id": "5840c6e5",
   "metadata": {},
   "outputs": [],
   "source": []
  },
  {
   "cell_type": "code",
   "execution_count": null,
   "id": "0fe9b332",
   "metadata": {},
   "outputs": [],
   "source": []
  }
 ],
 "metadata": {
  "kernelspec": {
   "display_name": "venv",
   "language": "python",
   "name": "python3"
  },
  "language_info": {
   "codemirror_mode": {
    "name": "ipython",
    "version": 3
   },
   "file_extension": ".py",
   "mimetype": "text/x-python",
   "name": "python",
   "nbconvert_exporter": "python",
   "pygments_lexer": "ipython3",
   "version": "3.13.5"
  }
 },
 "nbformat": 4,
 "nbformat_minor": 5
}
