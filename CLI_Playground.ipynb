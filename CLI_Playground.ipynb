{
 "cells": [
  {
   "cell_type": "markdown",
   "id": "77c894c1",
   "metadata": {},
   "source": []
  }
 ],
 "metadata": {
  "language_info": {
   "name": "python"
  }
 },
 "nbformat": 4,
 "nbformat_minor": 5
}
