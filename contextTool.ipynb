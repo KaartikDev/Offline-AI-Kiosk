{
 "cells": [
  {
   "cell_type": "markdown",
   "id": "49c03167",
   "metadata": {},
   "source": [
    "### Introduction\n",
    "\n",
    "\n",
    "This notebook will create the context() tool for the llm agent. The context tool should return similar chunks based from querry using the faiss vector store avaible in the knowledge pack. It should also format the chunks and add them to chat history. "
   ]
  },
  {
   "cell_type": "code",
   "execution_count": null,
   "id": "2d166f51",
   "metadata": {},
   "outputs": [],
   "source": [
    "# === 0) Imports & manifest ===\n",
    "from pathlib import Path\n",
    "import yaml, json\n",
    "from typing import Optional, List, Dict\n",
    "from langchain_ollama import OllamaEmbeddings\n",
    "from langchain_community.vectorstores import FAISS\n",
    "from langchain.tools import tool\n",
    "from langchain.schema import Document\n",
    "\n",
    "# If you want the prebuilt ReAct agent:\n",
    "from langgraph.checkpoint.memory import MemorySaver\n",
    "from langgraph.prebuilt import create_react_agent\n",
    "\n",
    "# If you prefer to also expose tools directly on the LLM:\n",
    "from langchain.chat_models import init_chat_model\n",
    "\n",
    "# --- Set your pack root + manifest ---\n",
    "ROOT = Path(\"/Users/ktejwani/Personal CS Projects/Summer 2025/Offline AI Kiosk/Offline-AI-Kiosk/first_aid_pack_demo_v2\")\n",
    "MANIFEST = ROOT / \"manifest.yaml\"\n",
    "\n",
    "with open(MANIFEST, \"r\", encoding=\"utf-8\") as f:\n",
    "    manifest = yaml.safe_load(f)\n",
    "\n",
    "# --- Resolve FAISS paths from manifest ---\n",
    "faiss_dir = ROOT / manifest[\"precomputed_indices\"][\"text\"][\"faiss\"][\"dir\"]\n",
    "\n",
    "# --- Create embeddings *matching the store* ---\n",
    "embed_model_name = manifest[\"embedding_config\"][\"text\"][\"model\"]     # e.g., \"granite-embedding:30m\"\n",
    "emb = OllamaEmbeddings(model=embed_model_name)\n",
    "\n",
    "# --- Load FAISS store + retriever ---\n",
    "vs = FAISS.load_local(str(faiss_dir), emb, allow_dangerous_deserialization=True)\n",
    "retriever = vs.as_retriever(search_kwargs={\"k\": 4})  # default k; tool will override if provided\n",
    "\n",
    "# === 1) Helpers ===\n",
    "def format_chunk(doc: Document, max_chars: int = 400) -> Dict:\n",
    "    \"\"\"Return a dict with compact text + key metadata for prompting & audit.\"\"\"\n",
    "    txt = doc.page_content.strip()\n",
    "    if len(txt) > max_chars:\n",
    "        txt = txt[:max_chars].rstrip() + \" …\"\n",
    "    m = doc.metadata\n",
    "    return {\n",
    "        \"id\": m.get(\"chunk_id\"),\n",
    "        \"topic_id\": m.get(\"topic_id\"),\n",
    "        \"file_id\": m.get(\"file_id\"),\n",
    "        \"locale\": m.get(\"locale\"),\n",
    "        \"path\": m.get(\"path\"),\n",
    "        \"citations\": [c.get(\"title\", \"\") for c in m.get(\"citations\", [])],\n",
    "        \"text\": txt\n",
    "    }\n",
    "\n",
    "def format_context_block(chunks: List[Dict]) -> str:\n",
    "    \"\"\"Human/LLM-friendly context block the agent can drop into its reasoning.\"\"\"\n",
    "    lines = []\n",
    "    lines.append(\"### Retrieved Context (use only what is relevant)\")\n",
    "    for i, c in enumerate(chunks, 1):\n",
    "        cite_str = \"; \".join([t for t in c[\"citations\"] if t]) or \"—\"\n",
    "        head = f\"[{i}] {c['topic_id']} · {c['file_id']} · {c['locale']} · {c['path']}\"\n",
    "        lines.append(head)\n",
    "        lines.append(c[\"text\"])\n",
    "        lines.append(f\"Source(s): {cite_str}\")\n",
    "        lines.append(\"\")  # blank line\n",
    "    return \"\\n\".join(lines).strip()\n",
    "\n",
    "# === 2) The @tool: context() ===\n",
    "@tool\n",
    "def context(\n",
    "    query: str,\n",
    "    k: int = 4,\n",
    "    topic_id: Optional[str] = None,\n",
    "    locale: Optional[str] = None\n",
    ") -> dict:\n",
    "    \"\"\"\n",
    "    Retrieve up to k relevant knowledge-pack chunks for 'query' and return a formatted\n",
    "    context block + structured per-chunk data for citations. You must use this tool for any prompt that is \n",
    "    important to wellbeing or safety of user. If you call this tool and the chunks are relevent, \n",
    "    citations must go in the answer.\n",
    "\n",
    "    Args:\n",
    "        query: Natural language question or keywords.\n",
    "        k: Top-k chunks to return (default 4).\n",
    "        topic_id: Optional manifest topic filter (e.g., 'bleed-control').\n",
    "        locale: Optional locale filter (e.g., 'hi_en' or 'en').\n",
    "\n",
    "    Returns:\n",
    "        {\n",
    "          \"query\": str,\n",
    "          \"k\": int,\n",
    "          \"filters\": {\"topic_id\":..., \"locale\":...},\n",
    "          \"context_block\": str,     # pasteable into prompts\n",
    "          \"chunks\": [ {id, topic_id, file_id, path, locale, citations[], text}, ... ]\n",
    "        }\n",
    "    \"\"\"\n",
    "    # Build a metadata filter if provided\n",
    "    _filter = {}\n",
    "    # if topic_id:\n",
    "    #     _filter[\"topic_id\"] = topic_id\n",
    "    # if locale:\n",
    "    #     _filter[\"locale\"] = locale\n",
    "\n",
    "    # Run retrieval (override k)\n",
    "    local_ret = vs.as_retriever(search_kwargs={\"k\": k})\n",
    "    hits: List[Document] = local_ret.invoke(query) if not _filter else local_ret.invoke(query, filter=_filter)\n",
    "\n",
    "    formatted = [format_chunk(d) for d in hits]\n",
    "    ctx_block = format_context_block(formatted)\n",
    "    return {\n",
    "        \"query\": query,\n",
    "        \"k\": k,\n",
    "        \"filters\": _filter,\n",
    "        \"context_block\": ctx_block,\n",
    "        \"chunks\": formatted\n",
    "    }\n",
    "\n",
    "# Keep a Tools list for whichever orchestration you choose:\n",
    "TOOLS = [context]\n"
   ]
  },
  {
   "cell_type": "markdown",
   "id": "1d161dfa",
   "metadata": {},
   "source": [
    "### Testing Tool Requests"
   ]
  },
  {
   "cell_type": "code",
   "execution_count": 11,
   "id": "e467a3da",
   "metadata": {},
   "outputs": [
    {
     "data": {
      "text/plain": [
       "AIMessage(content='', additional_kwargs={}, response_metadata={'model': 'llama3.1', 'created_at': '2025-08-27T02:32:00.357152Z', 'done': True, 'done_reason': 'stop', 'total_duration': 2763482792, 'load_duration': 49036042, 'prompt_eval_count': 376, 'prompt_eval_duration': 1929492833, 'eval_count': 32, 'eval_duration': 783962042, 'model_name': 'llama3.1'}, id='run--9797052b-16f8-412a-93cd-0a67bef6843d-0', tool_calls=[{'name': 'context', 'args': {'k': 4, 'locale': 'en', 'query': 'What to do if bleeding'}, 'id': '61c9642b-7b2c-4913-b830-ce36572722bf', 'type': 'tool_call'}], usage_metadata={'input_tokens': 376, 'output_tokens': 32, 'total_tokens': 408})"
      ]
     },
     "execution_count": 11,
     "metadata": {},
     "output_type": "execute_result"
    }
   ],
   "source": [
    "from langchain.chat_models import init_chat_model\n",
    "\n",
    "llm = init_chat_model(\n",
    "    model=\"ollama:llama3.1\",       \n",
    "    temperature=0.2  # lower = more deterministic\n",
    ")\n",
    "\n",
    "llm_with_tools = llm.bind_tools(TOOLS) #llm_with_tools is a new wrapped llm\n",
    "query = \"What do if bleeding?\"\n",
    "llm_with_tools.invoke(query) \n"
   ]
  },
  {
   "cell_type": "markdown",
   "id": "99b0bf28",
   "metadata": {},
   "source": [
    "### Full Agent Sim"
   ]
  },
  {
   "cell_type": "code",
   "execution_count": 12,
   "id": "4af52e6e",
   "metadata": {},
   "outputs": [
    {
     "name": "stdout",
     "output_type": "stream",
     "text": [
      "AI MESSAEGE CALLS\n",
      "content='' additional_kwargs={} response_metadata={'model': 'llama3.1', 'created_at': '2025-08-27T02:32:20.127773Z', 'done': True, 'done_reason': 'stop', 'total_duration': 1158136666, 'load_duration': 48535041, 'prompt_eval_count': 383, 'prompt_eval_duration': 330862333, 'eval_count': 32, 'eval_duration': 777265875, 'model_name': 'llama3.1'} id='run--9e239c07-1c65-4209-8220-c82324adf4e4-0' tool_calls=[{'name': 'context', 'args': {'k': '4', 'locale': 'en', 'query': 'bleeding, snakebite'}, 'id': '97e4cf2c-0054-4925-b2f6-0af4eb412c0d', 'type': 'tool_call'}] usage_metadata={'input_tokens': 383, 'output_tokens': 32, 'total_tokens': 415}\n",
      "JUST AI TOOL CALLS\n",
      "[{'name': 'context', 'args': {'k': '4', 'locale': 'en', 'query': 'bleeding, snakebite'}, 'id': '97e4cf2c-0054-4925-b2f6-0af4eb412c0d', 'type': 'tool_call'}]\n"
     ]
    }
   ],
   "source": [
    "from langchain_core.messages import HumanMessage\n",
    "#message classes on lang chain inlcude human massage ,ai message, system message, and tool message\n",
    "query = \"What do if bleeding? What to do if snakebite?\"\n",
    "\n",
    "messages = [HumanMessage(query)]\n",
    "\n",
    "ai_msg = llm_with_tools.invoke(messages) #llm_with_tools looks at history(currently only 1 human message) and then builds prompt\n",
    "print(\"AI MESSAEGE CALLS\")\n",
    "print(ai_msg)\n",
    "print(\"JUST AI TOOL CALLS\")\n",
    "print(ai_msg.tool_calls) \n",
    "#Now we add the bots message to the chat history\n",
    "messages.append(ai_msg)"
   ]
  },
  {
   "cell_type": "code",
   "execution_count": 13,
   "id": "81f66bcb",
   "metadata": {},
   "outputs": [
    {
     "data": {
      "text/plain": [
       "[HumanMessage(content='What do if bleeding? What to do if snakebite?', additional_kwargs={}, response_metadata={}),\n",
       " AIMessage(content='', additional_kwargs={}, response_metadata={'model': 'llama3.1', 'created_at': '2025-08-27T02:32:20.127773Z', 'done': True, 'done_reason': 'stop', 'total_duration': 1158136666, 'load_duration': 48535041, 'prompt_eval_count': 383, 'prompt_eval_duration': 330862333, 'eval_count': 32, 'eval_duration': 777265875, 'model_name': 'llama3.1'}, id='run--9e239c07-1c65-4209-8220-c82324adf4e4-0', tool_calls=[{'name': 'context', 'args': {'k': '4', 'locale': 'en', 'query': 'bleeding, snakebite'}, 'id': '97e4cf2c-0054-4925-b2f6-0af4eb412c0d', 'type': 'tool_call'}], usage_metadata={'input_tokens': 383, 'output_tokens': 32, 'total_tokens': 415}),\n",
       " ToolMessage(content='{\"query\": \"bleeding, snakebite\", \"k\": 4, \"filters\": {}, \"context_block\": \"### Retrieved Context (use only what is relevant)\\\\n[1] snakebite · guide-snakebite-donts · hi_en · core/snakebite/hi_en/snakebite_dos_and_donts.md\\\\n# Snakebite\\\\nKeep the patient calm and lying still to slow the spread of venom.  \\\\nRemove rings, bangles, or tight clothing from the bitten limb.  \\\\nImmobilize the limb with a splint and keep it at heart level.  \\\\nDo not cut, suck, burn, or apply ice to the bite.  \\\\nDo not apply tight tourniquets; they can cause more harm.  \\\\nTransport the patient quickly and safely to the nearest hospital with antiveno …\\\\nSource(s): WHO SEARO – Snakebite Management\\\\n\\\\n[2] bleed-control · guide-bleed-overview · hi_en · core/bleed-control/hi_en/bleeding_control_overview.md\\\\n# Severe Bleeding Control\\\\nSevere bleeding can quickly become life-threatening if not controlled.  \\\\nApply firm direct pressure with a clean cloth or sterile gauze.  \\\\nIf bleeding soaks through, add more cloths without removing the first.  \\\\nElevate the injured limb if possible while maintaining pressure.  \\\\nUse a tourniquet if direct pressure fails and bleeding is from an arm or leg.  \\\\nNote the time a …\\\\nSource(s): WHO Basic Emergency Care (B.E.C.)\\\\n\\\\n[3] fracture-splint · guide-fracture-overview · hi_en · core/fracture-splint/hi_en/fracture_overview.md\\\\n# Fracture & Splinting\\\\nFractures may present with pain, swelling, deformity, and inability to use the limb.  \\\\nImmobilize the joint above and below the suspected fracture.  \\\\nUse local materials such as bamboo sticks, boards, or rolled newspapers as splints.  \\\\nPad the splints with cloth before tying them in place.  \\\\nAvoid moving the broken bone excessively while applying the splint.  \\\\nCheck circulat …\\\\nSource(s): WHO Basic Emergency Care (B.E.C.)\\\\n\\\\n[4] burns · guide-burns-dont · hi_en · core/burns/hi_en/burns_dos_and_donts.md\\\\n# Burns (Flame/Scald/Electrical)\\\\nCool the burn immediately with clean running water for at least 20 minutes.  \\\\nRemove jewelry or tight clothing near the burned area before swelling begins.  \\\\nDo not apply butter, oil, toothpaste, or traditional remedies.  \\\\nCover the burn with a clean, non-stick cloth or sterile dressing.  \\\\nDo not break blisters; they protect the underlying skin.  \\\\nCheck for difficu …\\\\nSource(s): Sphere Handbook – Health Standards\", \"chunks\": [{\"id\": \"guide-snakebite-donts::chunk::0\", \"topic_id\": \"snakebite\", \"file_id\": \"guide-snakebite-donts\", \"locale\": \"hi_en\", \"path\": \"core/snakebite/hi_en/snakebite_dos_and_donts.md\", \"citations\": [\"WHO SEARO – Snakebite Management\"], \"text\": \"# Snakebite\\\\nKeep the patient calm and lying still to slow the spread of venom.  \\\\nRemove rings, bangles, or tight clothing from the bitten limb.  \\\\nImmobilize the limb with a splint and keep it at heart level.  \\\\nDo not cut, suck, burn, or apply ice to the bite.  \\\\nDo not apply tight tourniquets; they can cause more harm.  \\\\nTransport the patient quickly and safely to the nearest hospital with antiveno …\"}, {\"id\": \"guide-bleed-overview::chunk::0\", \"topic_id\": \"bleed-control\", \"file_id\": \"guide-bleed-overview\", \"locale\": \"hi_en\", \"path\": \"core/bleed-control/hi_en/bleeding_control_overview.md\", \"citations\": [\"WHO Basic Emergency Care (B.E.C.)\"], \"text\": \"# Severe Bleeding Control\\\\nSevere bleeding can quickly become life-threatening if not controlled.  \\\\nApply firm direct pressure with a clean cloth or sterile gauze.  \\\\nIf bleeding soaks through, add more cloths without removing the first.  \\\\nElevate the injured limb if possible while maintaining pressure.  \\\\nUse a tourniquet if direct pressure fails and bleeding is from an arm or leg.  \\\\nNote the time a …\"}, {\"id\": \"guide-fracture-overview::chunk::0\", \"topic_id\": \"fracture-splint\", \"file_id\": \"guide-fracture-overview\", \"locale\": \"hi_en\", \"path\": \"core/fracture-splint/hi_en/fracture_overview.md\", \"citations\": [\"WHO Basic Emergency Care (B.E.C.)\"], \"text\": \"# Fracture & Splinting\\\\nFractures may present with pain, swelling, deformity, and inability to use the limb.  \\\\nImmobilize the joint above and below the suspected fracture.  \\\\nUse local materials such as bamboo sticks, boards, or rolled newspapers as splints.  \\\\nPad the splints with cloth before tying them in place.  \\\\nAvoid moving the broken bone excessively while applying the splint.  \\\\nCheck circulat …\"}, {\"id\": \"guide-burns-dont::chunk::0\", \"topic_id\": \"burns\", \"file_id\": \"guide-burns-dont\", \"locale\": \"hi_en\", \"path\": \"core/burns/hi_en/burns_dos_and_donts.md\", \"citations\": [\"Sphere Handbook – Health Standards\"], \"text\": \"# Burns (Flame/Scald/Electrical)\\\\nCool the burn immediately with clean running water for at least 20 minutes.  \\\\nRemove jewelry or tight clothing near the burned area before swelling begins.  \\\\nDo not apply butter, oil, toothpaste, or traditional remedies.  \\\\nCover the burn with a clean, non-stick cloth or sterile dressing.  \\\\nDo not break blisters; they protect the underlying skin.  \\\\nCheck for difficu …\"}]}', name='context', tool_call_id='97e4cf2c-0054-4925-b2f6-0af4eb412c0d')]"
      ]
     },
     "execution_count": 13,
     "metadata": {},
     "output_type": "execute_result"
    }
   ],
   "source": [
    "for tool_call in ai_msg.tool_calls: #Actually running all the tool calls ai requested in last cell\n",
    "    tools_dict = {\"context\": context}\n",
    "    selected_tool = tools_dict[tool_call[\"name\"].lower()]\n",
    "    tool_msg = selected_tool.invoke(tool_call)\n",
    "    messages.append(tool_msg) #Add the tool message to chat history\n",
    "\n",
    "messages\n",
    "\n",
    "\n"
   ]
  },
  {
   "cell_type": "code",
   "execution_count": 14,
   "id": "6dcddc2a",
   "metadata": {},
   "outputs": [
    {
     "data": {
      "text/plain": [
       "AIMessage(content='If you are bleeding:\\n\\n1. Apply firm direct pressure with a clean cloth or sterile gauze to the injured area.\\n2. If bleeding soaks through, add more cloths without removing the first.\\n3. Elevate the injured limb if possible while maintaining pressure.\\n4. Use a tourniquet if direct pressure fails and bleeding is from an arm or leg.\\n\\nIf you have been bitten by a snake:\\n\\n1. Keep the patient calm and lying still to slow the spread of venom.\\n2. Remove rings, bangles, or tight clothing from the bitten limb.\\n3. Immobilize the limb with a splint and keep it at heart level.\\n4. Do not cut, suck, burn, or apply ice to the bite.\\n5. Do not apply tight tourniquets; they can cause more harm.\\n6. Transport the patient quickly and safely to the nearest hospital with antivenom.\\n\\nRemember to always seek medical attention if you are unsure of how to treat a bleeding wound or snakebite.', additional_kwargs={}, response_metadata={'model': 'llama3.1', 'created_at': '2025-08-27T02:32:50.916355Z', 'done': True, 'done_reason': 'stop', 'total_duration': 10272245291, 'load_duration': 43929125, 'prompt_eval_count': 1494, 'prompt_eval_duration': 4144166167, 'eval_count': 208, 'eval_duration': 6074293000, 'model_name': 'llama3.1'}, id='run--eb1bffd0-2595-4716-9c74-01033a96e5f0-0', usage_metadata={'input_tokens': 1494, 'output_tokens': 208, 'total_tokens': 1702})"
      ]
     },
     "execution_count": 14,
     "metadata": {},
     "output_type": "execute_result"
    }
   ],
   "source": [
    "ans = llm_with_tools.invoke(messages)\n",
    "ans"
   ]
  },
  {
   "cell_type": "code",
   "execution_count": 15,
   "id": "f27953bd",
   "metadata": {},
   "outputs": [
    {
     "data": {
      "text/plain": [
       "'If you are bleeding:\\n\\n1. Apply firm direct pressure with a clean cloth or sterile gauze to the injured area.\\n2. If bleeding soaks through, add more cloths without removing the first.\\n3. Elevate the injured limb if possible while maintaining pressure.\\n4. Use a tourniquet if direct pressure fails and bleeding is from an arm or leg.\\n\\nIf you have been bitten by a snake:\\n\\n1. Keep the patient calm and lying still to slow the spread of venom.\\n2. Remove rings, bangles, or tight clothing from the bitten limb.\\n3. Immobilize the limb with a splint and keep it at heart level.\\n4. Do not cut, suck, burn, or apply ice to the bite.\\n5. Do not apply tight tourniquets; they can cause more harm.\\n6. Transport the patient quickly and safely to the nearest hospital with antivenom.\\n\\nRemember to always seek medical attention if you are unsure of how to treat a bleeding wound or snakebite.'"
      ]
     },
     "execution_count": 15,
     "metadata": {},
     "output_type": "execute_result"
    }
   ],
   "source": [
    "ans.content"
   ]
  },
  {
   "cell_type": "markdown",
   "id": "85a76fe6",
   "metadata": {},
   "source": [
    "### Test"
   ]
  },
  {
   "cell_type": "code",
   "execution_count": 3,
   "id": "db5810f1",
   "metadata": {},
   "outputs": [
    {
     "name": "stdout",
     "output_type": "stream",
     "text": [
      "Based on the context and parameters provided, it seems like you're asking about how to stop bleeding. Here are some general steps that may help:\n",
      "\n",
      "1.  **Apply pressure**: Use a clean cloth or bandage to apply firm pressure directly over the wound.\n",
      "2.  **Elevate the injured area**: If possible, elevate the injured area above heart level to reduce blood flow to the area.\n",
      "3.  **Use a tourniquet (if necessary)**: In severe cases of bleeding, a tourniquet may be used to stop the bleeding. However, this should only be done by trained medical professionals.\n",
      "4.  **Apply a cold compress**: Applying a cold compress or an ice pack wrapped in a cloth can help constrict blood vessels and reduce bleeding.\n",
      "\n",
      "Please note that these are general steps and not specific medical advice. If you're experiencing severe bleeding or if the bleeding doesn't stop after applying pressure, it's essential to seek immediate medical attention.\n",
      "\n",
      "If you have any further questions or need more specific guidance, please let me know!\n"
     ]
    }
   ],
   "source": [
    "# === 3A) Agent via LangGraph ===\n",
    "memory = MemorySaver()\n",
    "\n",
    "# Pick a local or remote model; examples:\n",
    "# model_name = \"ollama/llama3.1\"\n",
    "# model_name = \"ollama/gpt-oss-20b\"\n",
    "# or an OpenAI model if you have keys: \"gpt-4o\"\n",
    "model_name = \"ollama:llama3.1\"\n",
    "llm = init_chat_model(model_name, temperature=0.2)\n",
    "\n",
    "# Create agent that knows about the context() tool\n",
    "graph = create_react_agent(llm, tools=TOOLS, checkpointer=memory)\n",
    "\n",
    "# Single-turn example (thread_id ties memory across turns)\n",
    "q = \"What to do for bleeding?\"\n",
    "result = graph.invoke(\n",
    "    {\"messages\": [(\"user\", q)]},\n",
    "    config={\"configurable\": {\"thread_id\": \"kp-demo-thread\"}}\n",
    ")\n",
    "print(result[\"messages\"][-1].content)\n"
   ]
  },
  {
   "cell_type": "code",
   "execution_count": 4,
   "id": "a380480e",
   "metadata": {},
   "outputs": [
    {
     "ename": "NameError",
     "evalue": "name 'llm_with_tools' is not defined",
     "output_type": "error",
     "traceback": [
      "\u001b[31m---------------------------------------------------------------------------\u001b[39m",
      "\u001b[31mNameError\u001b[39m                                 Traceback (most recent call last)",
      "\u001b[36mCell\u001b[39m\u001b[36m \u001b[39m\u001b[32mIn[4]\u001b[39m\u001b[32m, line 1\u001b[39m\n\u001b[32m----> \u001b[39m\u001b[32m1\u001b[39m msg = \u001b[43mllm_with_tools\u001b[49m.invoke(\u001b[33m\"\u001b[39m\u001b[33mtourniquet steps\u001b[39m\u001b[33m\"\u001b[39m)\n\u001b[32m      3\u001b[39m \u001b[38;5;28mprint\u001b[39m(msg.tool_calls)\n\u001b[32m      4\u001b[39m \u001b[38;5;66;03m# might be: [{'name': 'context', 'args': {'query': 'tourniquet steps', 'k': 4}, ...}]\u001b[39;00m\n",
      "\u001b[31mNameError\u001b[39m: name 'llm_with_tools' is not defined"
     ]
    }
   ],
   "source": [
    "msg = llm_with_tools.invoke(\"tourniquet steps\")\n",
    "\n",
    "print(msg.tool_calls)\n",
    "# might be: [{'name': 'context', 'args': {'query': 'tourniquet steps', 'k': 4}, ...}]\n"
   ]
  },
  {
   "cell_type": "code",
   "execution_count": null,
   "id": "9cf3a3af",
   "metadata": {},
   "outputs": [],
   "source": []
  }
 ],
 "metadata": {
  "kernelspec": {
   "display_name": "venv",
   "language": "python",
   "name": "python3"
  },
  "language_info": {
   "codemirror_mode": {
    "name": "ipython",
    "version": 3
   },
   "file_extension": ".py",
   "mimetype": "text/x-python",
   "name": "python",
   "nbconvert_exporter": "python",
   "pygments_lexer": "ipython3",
   "version": "3.13.5"
  }
 },
 "nbformat": 4,
 "nbformat_minor": 5
}
