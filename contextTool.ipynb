{
 "cells": [
  {
   "cell_type": "markdown",
   "id": "49c03167",
   "metadata": {},
   "source": [
    "### Introduction\n",
    "\n",
    "\n",
    "This notebook will create the context() tool for the llm agent. The context tool should return similar chunks based from querry using the faiss vector store avaible in the knowledge pack. It should also format the chunks and add them to chat history. "
   ]
  },
  {
   "cell_type": "code",
   "execution_count": 21,
   "id": "2d166f51",
   "metadata": {},
   "outputs": [],
   "source": [
    "# === 0) Imports & manifest ===\n",
    "from pathlib import Path\n",
    "import yaml, json\n",
    "from typing import Optional, List, Dict\n",
    "from langchain_ollama import OllamaEmbeddings\n",
    "from langchain_community.vectorstores import FAISS\n",
    "from langchain.tools import tool\n",
    "from langchain.schema import Document\n",
    "\n",
    "# If you want the prebuilt ReAct agent:\n",
    "from langgraph.checkpoint.memory import MemorySaver\n",
    "from langgraph.prebuilt import create_react_agent\n",
    "\n",
    "# If you prefer to also expose tools directly on the LLM:\n",
    "from langchain.chat_models import init_chat_model\n",
    "\n",
    "# --- Set your pack root + manifest ---\n",
    "ROOT = Path(\"/Users/ktejwani/Personal CS Projects/Summer 2025/Offline AI Kiosk/Offline-AI-Kiosk/first_aid_pack_demo_v2\")\n",
    "MANIFEST = ROOT / \"manifest.yaml\"\n",
    "\n",
    "with open(MANIFEST, \"r\", encoding=\"utf-8\") as f:\n",
    "    manifest = yaml.safe_load(f)\n",
    "\n",
    "# --- Resolve FAISS paths from manifest ---\n",
    "faiss_dir = ROOT / manifest[\"precomputed_indices\"][\"text\"][\"faiss\"][\"dir\"]\n",
    "\n",
    "# --- Create embeddings *matching the store* ---\n",
    "embed_model_name = manifest[\"embedding_config\"][\"text\"][\"model\"]     # e.g., \"granite-embedding:30m\"\n",
    "emb = OllamaEmbeddings(model=embed_model_name)\n",
    "\n",
    "# --- Load FAISS store + retriever ---\n",
    "vs = FAISS.load_local(str(faiss_dir), emb, allow_dangerous_deserialization=True)\n",
    "retriever = vs.as_retriever(search_kwargs={\"k\": 4})  # default k; tool will override if provided\n",
    "\n",
    "# === 1) Helpers ===\n",
    "def format_chunk(doc: Document, max_chars: int = 400) -> Dict:\n",
    "    \"\"\"Return a dict with compact text + key metadata for prompting & audit.\"\"\"\n",
    "    txt = doc.page_content.strip()\n",
    "    if len(txt) > max_chars:\n",
    "        txt = txt[:max_chars].rstrip() + \" …\"\n",
    "    m = doc.metadata\n",
    "    return {\n",
    "        \"id\": m.get(\"chunk_id\"),\n",
    "        \"topic_id\": m.get(\"topic_id\"),\n",
    "        \"file_id\": m.get(\"file_id\"),\n",
    "        \"locale\": m.get(\"locale\"),\n",
    "        \"path\": m.get(\"path\"),\n",
    "        \"citations\": [c.get(\"title\", \"\") for c in m.get(\"citations\", [])],\n",
    "        \"text\": txt\n",
    "    }\n",
    "\n",
    "def format_context_block(chunks: List[Dict]) -> str:\n",
    "    \"\"\"Human/LLM-friendly context block the agent can drop into its reasoning.\"\"\"\n",
    "    lines = []\n",
    "    lines.append(\"### Retrieved Context (use only what is relevant)\")\n",
    "    for i, c in enumerate(chunks, 1):\n",
    "        cite_str = \"; \".join([t for t in c[\"citations\"] if t]) or \"—\"\n",
    "        head = f\"[{i}] {c['topic_id']} · {c['file_id']} · {c['locale']} · {c['path']}\"\n",
    "        lines.append(head)\n",
    "        lines.append(c[\"text\"])\n",
    "        lines.append(f\"Source(s): {cite_str}\")\n",
    "        lines.append(\"\")  # blank line\n",
    "    return \"\\n\".join(lines).strip()\n",
    "\n",
    "# === 2) The @tool: context() ===\n",
    "@tool\n",
    "def context(\n",
    "    query: str,\n",
    "    k: int = 4,\n",
    "    topic_id: Optional[str] = None,\n",
    "    locale: Optional[str] = None\n",
    ") -> dict:\n",
    "    \"\"\"\n",
    "    Retrieve up to k relevant knowledge-pack chunks for 'query' and return a formatted\n",
    "    context block + structured per-chunk data for citations. You must use this tool for any prompt that is \n",
    "    important to wellbeing or safety of user. \n",
    "\n",
    "    Args:\n",
    "        query: Natural language question or keywords.\n",
    "        k: Top-k chunks to return (default 4).\n",
    "        topic_id: Optional manifest topic filter (e.g., 'bleed-control').\n",
    "        locale: Optional locale filter (e.g., 'hi_en' or 'en').\n",
    "\n",
    "    Returns:\n",
    "        {\n",
    "          \"query\": str,\n",
    "          \"k\": int,\n",
    "          \"filters\": {\"topic_id\":..., \"locale\":...},\n",
    "          \"context_block\": str,     # pasteable into prompts\n",
    "          \"chunks\": [ {id, topic_id, file_id, path, locale, citations[], text}, ... ]\n",
    "        }\n",
    "    \"\"\"\n",
    "    # Build a metadata filter if provided\n",
    "    _filter = {}\n",
    "    # if topic_id:\n",
    "    #     _filter[\"topic_id\"] = topic_id\n",
    "    # if locale:\n",
    "    #     _filter[\"locale\"] = locale\n",
    "\n",
    "    # Run retrieval (override k)\n",
    "    local_ret = vs.as_retriever(search_kwargs={\"k\": k})\n",
    "    hits: List[Document] = local_ret.invoke(query) if not _filter else local_ret.invoke(query, filter=_filter)\n",
    "\n",
    "    formatted = [format_chunk(d) for d in hits]\n",
    "    ctx_block = format_context_block(formatted)\n",
    "    return {\n",
    "        \"query\": query,\n",
    "        \"k\": k,\n",
    "        \"filters\": _filter,\n",
    "        \"context_block\": ctx_block,\n",
    "        \"chunks\": formatted\n",
    "    }\n",
    "\n",
    "# Keep a Tools list for whichever orchestration you choose:\n",
    "TOOLS = [context]\n"
   ]
  },
  {
   "cell_type": "markdown",
   "id": "1d161dfa",
   "metadata": {},
   "source": [
    "### Testing Tool Requests"
   ]
  },
  {
   "cell_type": "code",
   "execution_count": 31,
   "id": "e467a3da",
   "metadata": {},
   "outputs": [
    {
     "data": {
      "text/plain": [
       "AIMessage(content='', additional_kwargs={}, response_metadata={'model': 'gpt-oss:20b', 'created_at': '2025-08-27T02:47:36.848995Z', 'done': True, 'done_reason': 'stop', 'total_duration': 13818915250, 'load_duration': 8068646875, 'prompt_eval_count': 312, 'prompt_eval_duration': 3420809500, 'eval_count': 83, 'eval_duration': 2313899708, 'model_name': 'gpt-oss:20b'}, id='run--fc1d3973-604d-4919-9250-8ba69635eb0c-0', tool_calls=[{'name': 'context', 'args': {'k': 4, 'locale': 'en', 'query': 'bleeding emergency first aid', 'topic_id': None}, 'id': '3975110a-625c-4973-979d-9aae04e2adc9', 'type': 'tool_call'}], usage_metadata={'input_tokens': 312, 'output_tokens': 83, 'total_tokens': 395})"
      ]
     },
     "execution_count": 31,
     "metadata": {},
     "output_type": "execute_result"
    }
   ],
   "source": [
    "from langchain.chat_models import init_chat_model\n",
    "\n",
    "llm = init_chat_model(\n",
    "    model=\"ollama:gpt-oss:20b\",       \n",
    "    temperature=0.2  # lower = more deterministic\n",
    ")\n",
    "\n",
    "llm_with_tools = llm.bind_tools(TOOLS) #llm_with_tools is a new wrapped llm\n",
    "query = \"What do if bleeding?\"\n",
    "llm_with_tools.invoke(query) \n"
   ]
  },
  {
   "cell_type": "markdown",
   "id": "99b0bf28",
   "metadata": {},
   "source": [
    "### Full Agent Sim"
   ]
  },
  {
   "cell_type": "code",
   "execution_count": 32,
   "id": "4af52e6e",
   "metadata": {},
   "outputs": [
    {
     "name": "stdout",
     "output_type": "stream",
     "text": [
      "AI MESSAEGE CALLS\n",
      "content='' additional_kwargs={} response_metadata={'model': 'gpt-oss:20b', 'created_at': '2025-08-27T02:48:00.578782Z', 'done': True, 'done_reason': 'stop', 'total_duration': 6079019834, 'load_duration': 75429792, 'prompt_eval_count': 385, 'prompt_eval_duration': 2960362417, 'eval_count': 108, 'eval_duration': 3015826583, 'model_name': 'gpt-oss:20b'} id='run--6b2de3ab-4c8b-4b5c-a3d2-08fe35457a41-0' tool_calls=[{'name': 'context', 'args': {'k': 4, 'locale': 'en', 'query': 'bleeding first aid', 'topic_id': 'bleed-control'}, 'id': '9f960820-0553-4df4-9794-3e5b10212b1e', 'type': 'tool_call'}] usage_metadata={'input_tokens': 385, 'output_tokens': 108, 'total_tokens': 493}\n",
      "JUST AI TOOL CALLS\n",
      "[{'name': 'context', 'args': {'k': 4, 'locale': 'en', 'query': 'bleeding first aid', 'topic_id': 'bleed-control'}, 'id': '9f960820-0553-4df4-9794-3e5b10212b1e', 'type': 'tool_call'}]\n"
     ]
    }
   ],
   "source": [
    "from langchain_core.messages import HumanMessage\n",
    "from langchain_core.messages import SystemMessage\n",
    "\n",
    "#message classes on lang chain inlcude human massage ,ai message, system message, and tool message\n",
    "\n",
    "SYSTEM_RULES = SystemMessage(content=(\n",
    "    \"You are a first-aid assistant. If additional facts are needed, \"\n",
    "    \"CALL the `context` tool (do not describe it). After receiving tool output, \"\n",
    "    \"base your answer on it and end with a 'Sources:' line listing citation titles. \"\n",
    "    \"If no retrieved context is available, say you don't have enough info.\"\n",
    "))\n",
    "\n",
    "\n",
    "query = \"What do if bleeding? What to do if snakebite?\"\n",
    "\n",
    "\n",
    "messages = [SYSTEM_RULES, HumanMessage(content=query)]\n",
    "\n",
    "ai_msg = llm_with_tools.invoke(messages) #llm_with_tools looks at history(currently only 1 human message) and then builds prompt\n",
    "print(\"AI MESSAEGE CALLS\")\n",
    "print(ai_msg)\n",
    "print(\"JUST AI TOOL CALLS\")\n",
    "print(ai_msg.tool_calls) \n",
    "#Now we add the bots message to the chat history\n",
    "messages.append(ai_msg)"
   ]
  },
  {
   "cell_type": "code",
   "execution_count": 33,
   "id": "81f66bcb",
   "metadata": {},
   "outputs": [
    {
     "data": {
      "text/plain": [
       "[SystemMessage(content=\"You are a first-aid assistant. If additional facts are needed, CALL the `context` tool (do not describe it). After receiving tool output, base your answer on it and end with a 'Sources:' line listing citation titles. If no retrieved context is available, say you don't have enough info.\", additional_kwargs={}, response_metadata={}),\n",
       " HumanMessage(content='What do if bleeding? What to do if snakebite?', additional_kwargs={}, response_metadata={}),\n",
       " AIMessage(content='', additional_kwargs={}, response_metadata={'model': 'gpt-oss:20b', 'created_at': '2025-08-27T02:48:00.578782Z', 'done': True, 'done_reason': 'stop', 'total_duration': 6079019834, 'load_duration': 75429792, 'prompt_eval_count': 385, 'prompt_eval_duration': 2960362417, 'eval_count': 108, 'eval_duration': 3015826583, 'model_name': 'gpt-oss:20b'}, id='run--6b2de3ab-4c8b-4b5c-a3d2-08fe35457a41-0', tool_calls=[{'name': 'context', 'args': {'k': 4, 'locale': 'en', 'query': 'bleeding first aid', 'topic_id': 'bleed-control'}, 'id': '9f960820-0553-4df4-9794-3e5b10212b1e', 'type': 'tool_call'}], usage_metadata={'input_tokens': 385, 'output_tokens': 108, 'total_tokens': 493}),\n",
       " ToolMessage(content='{\"query\": \"bleeding first aid\", \"k\": 4, \"filters\": {}, \"context_block\": \"### Retrieved Context (use only what is relevant)\\\\n[1] bleed-control · guide-bleed-overview · hi_en · core/bleed-control/hi_en/bleeding_control_overview.md\\\\n# Severe Bleeding Control\\\\nSevere bleeding can quickly become life-threatening if not controlled.  \\\\nApply firm direct pressure with a clean cloth or sterile gauze.  \\\\nIf bleeding soaks through, add more cloths without removing the first.  \\\\nElevate the injured limb if possible while maintaining pressure.  \\\\nUse a tourniquet if direct pressure fails and bleeding is from an arm or leg.  \\\\nNote the time a …\\\\nSource(s): WHO Basic Emergency Care (B.E.C.)\\\\n\\\\n[2] cpr · guide-cpr-steps · hi_en · core/cpr/hi_en/cpr_steps.md\\\\n# Hands-Only CPR\\\\nCardiac arrest means the heart has stopped pumping effectively.  \\\\nCheck for responsiveness and breathing; call for help immediately.  \\\\nPlace the heel of one hand on the center of the chest, other hand on top.  \\\\nPush hard and fast at 100–120 compressions per minute.  \\\\nAllow full chest recoil after each push.  \\\\nDo not stop until help arrives or the person moves.  \\\\nHands-only CPR is …\\\\nSource(s): WHO Basic Emergency Care (B.E.C.)\\\\n\\\\n[3] snakebite · guide-snakebite-donts · hi_en · core/snakebite/hi_en/snakebite_dos_and_donts.md\\\\n# Snakebite\\\\nKeep the patient calm and lying still to slow the spread of venom.  \\\\nRemove rings, bangles, or tight clothing from the bitten limb.  \\\\nImmobilize the limb with a splint and keep it at heart level.  \\\\nDo not cut, suck, burn, or apply ice to the bite.  \\\\nDo not apply tight tourniquets; they can cause more harm.  \\\\nTransport the patient quickly and safely to the nearest hospital with antiveno …\\\\nSource(s): WHO SEARO – Snakebite Management\\\\n\\\\n[4] burns · guide-burns-dont · hi_en · core/burns/hi_en/burns_dos_and_donts.md\\\\n# Burns (Flame/Scald/Electrical)\\\\nCool the burn immediately with clean running water for at least 20 minutes.  \\\\nRemove jewelry or tight clothing near the burned area before swelling begins.  \\\\nDo not apply butter, oil, toothpaste, or traditional remedies.  \\\\nCover the burn with a clean, non-stick cloth or sterile dressing.  \\\\nDo not break blisters; they protect the underlying skin.  \\\\nCheck for difficu …\\\\nSource(s): Sphere Handbook – Health Standards\", \"chunks\": [{\"id\": \"guide-bleed-overview::chunk::0\", \"topic_id\": \"bleed-control\", \"file_id\": \"guide-bleed-overview\", \"locale\": \"hi_en\", \"path\": \"core/bleed-control/hi_en/bleeding_control_overview.md\", \"citations\": [\"WHO Basic Emergency Care (B.E.C.)\"], \"text\": \"# Severe Bleeding Control\\\\nSevere bleeding can quickly become life-threatening if not controlled.  \\\\nApply firm direct pressure with a clean cloth or sterile gauze.  \\\\nIf bleeding soaks through, add more cloths without removing the first.  \\\\nElevate the injured limb if possible while maintaining pressure.  \\\\nUse a tourniquet if direct pressure fails and bleeding is from an arm or leg.  \\\\nNote the time a …\"}, {\"id\": \"guide-cpr-steps::chunk::0\", \"topic_id\": \"cpr\", \"file_id\": \"guide-cpr-steps\", \"locale\": \"hi_en\", \"path\": \"core/cpr/hi_en/cpr_steps.md\", \"citations\": [\"WHO Basic Emergency Care (B.E.C.)\"], \"text\": \"# Hands-Only CPR\\\\nCardiac arrest means the heart has stopped pumping effectively.  \\\\nCheck for responsiveness and breathing; call for help immediately.  \\\\nPlace the heel of one hand on the center of the chest, other hand on top.  \\\\nPush hard and fast at 100–120 compressions per minute.  \\\\nAllow full chest recoil after each push.  \\\\nDo not stop until help arrives or the person moves.  \\\\nHands-only CPR is …\"}, {\"id\": \"guide-snakebite-donts::chunk::0\", \"topic_id\": \"snakebite\", \"file_id\": \"guide-snakebite-donts\", \"locale\": \"hi_en\", \"path\": \"core/snakebite/hi_en/snakebite_dos_and_donts.md\", \"citations\": [\"WHO SEARO – Snakebite Management\"], \"text\": \"# Snakebite\\\\nKeep the patient calm and lying still to slow the spread of venom.  \\\\nRemove rings, bangles, or tight clothing from the bitten limb.  \\\\nImmobilize the limb with a splint and keep it at heart level.  \\\\nDo not cut, suck, burn, or apply ice to the bite.  \\\\nDo not apply tight tourniquets; they can cause more harm.  \\\\nTransport the patient quickly and safely to the nearest hospital with antiveno …\"}, {\"id\": \"guide-burns-dont::chunk::0\", \"topic_id\": \"burns\", \"file_id\": \"guide-burns-dont\", \"locale\": \"hi_en\", \"path\": \"core/burns/hi_en/burns_dos_and_donts.md\", \"citations\": [\"Sphere Handbook – Health Standards\"], \"text\": \"# Burns (Flame/Scald/Electrical)\\\\nCool the burn immediately with clean running water for at least 20 minutes.  \\\\nRemove jewelry or tight clothing near the burned area before swelling begins.  \\\\nDo not apply butter, oil, toothpaste, or traditional remedies.  \\\\nCover the burn with a clean, non-stick cloth or sterile dressing.  \\\\nDo not break blisters; they protect the underlying skin.  \\\\nCheck for difficu …\"}]}', name='context', tool_call_id='9f960820-0553-4df4-9794-3e5b10212b1e')]"
      ]
     },
     "execution_count": 33,
     "metadata": {},
     "output_type": "execute_result"
    }
   ],
   "source": [
    "for tool_call in ai_msg.tool_calls: #Actually running all the tool calls ai requested in last cell\n",
    "    tools_dict = {\"context\": context}\n",
    "    selected_tool = tools_dict[tool_call[\"name\"].lower()]\n",
    "    tool_msg = selected_tool.invoke(tool_call)\n",
    "    messages.append(tool_msg) #Add the tool message to chat history\n",
    "\n",
    "messages\n",
    "\n",
    "\n"
   ]
  },
  {
   "cell_type": "code",
   "execution_count": 34,
   "id": "6dcddc2a",
   "metadata": {},
   "outputs": [
    {
     "data": {
      "text/plain": [
       "AIMessage(content='**If you’re dealing with bleeding**\\n\\n1. **Stay calm and assess the situation** – Check the severity of the bleed.  \\n2. **Apply firm direct pressure**  \\n   * Use a clean cloth, sterile gauze, or your hand.  \\n   * Press straight down; do not lift the cloth to check the wound.  \\n3. **Add more layers if needed** – If the first cloth soaks through, place a second one on top without removing the first.  \\n4. **Elevate the injured limb** (if it’s a limb) while keeping the pressure.  \\n5. **Use a tourniquet only if necessary** – If direct pressure fails and the bleed is from an arm or leg, apply a tourniquet above the wound.  \\n6. **Note the time** – Record when you started applying pressure; this helps medical staff.  \\n7. **Call for help** – If bleeding is severe, continuous, or you’re unsure, get emergency services.\\n\\n*Source: “Severe Bleeding Control” – WHO Basic Emergency Care (B.E.C.)*\\n\\n---\\n\\n**If you’re dealing with a snakebite**\\n\\n1. **Keep the victim calm and still** – Movement speeds venom spread.  \\n2. **Remove tight items** – Take off rings, bracelets, watches, or tight clothing from the bitten limb.  \\n3. **Immobilize the limb** – Use a splint or a firm bandage; keep the bitten limb at or slightly below heart level.  \\n4. **Do NOT**  \\n   * Cut or try to suck out the venom.  \\n   * Apply ice or a tourniquet.  \\n   * Use a tourniquet unless absolutely necessary and you know how to apply it correctly.  \\n5. **Transport quickly to a medical facility** – Bring the victim to the nearest hospital that can administer antivenom.  \\n6. **Keep the victim warm and monitor breathing** – If breathing becomes difficult, be ready to perform CPR (hands‑only if trained).\\n\\n*Source: “Snakebite” – WHO SEARO – Snakebite Management*\\n\\n---\\n\\n**Quick recap**\\n\\n| Situation | Key first‑aid step |\\n|-----------|--------------------|\\n| Bleeding | Firm direct pressure; elevate; use tourniquet only if needed |\\n| Snakebite | Keep still; remove tight items; immobilize; avoid cutting/sucking; get medical help fast |\\n\\nIf you’re ever unsure, call emergency services right away.', additional_kwargs={}, response_metadata={'model': 'gpt-oss:20b', 'created_at': '2025-08-27T02:48:37.007018Z', 'done': True, 'done_reason': 'stop', 'total_duration': 26463564375, 'load_duration': 65591709, 'prompt_eval_count': 1773, 'prompt_eval_duration': 7278952000, 'eval_count': 559, 'eval_duration': 19101769542, 'model_name': 'gpt-oss:20b'}, id='run--1a94706d-fe5d-4c13-9afd-d7b0375dcc16-0', usage_metadata={'input_tokens': 1773, 'output_tokens': 559, 'total_tokens': 2332})"
      ]
     },
     "execution_count": 34,
     "metadata": {},
     "output_type": "execute_result"
    }
   ],
   "source": [
    "ans = llm_with_tools.invoke(messages)\n",
    "ans"
   ]
  },
  {
   "cell_type": "code",
   "execution_count": 35,
   "id": "f27953bd",
   "metadata": {},
   "outputs": [
    {
     "data": {
      "text/plain": [
       "'**If you’re dealing with bleeding**\\n\\n1. **Stay calm and assess the situation** – Check the severity of the bleed.  \\n2. **Apply firm direct pressure**  \\n   * Use a clean cloth, sterile gauze, or your hand.  \\n   * Press straight down; do not lift the cloth to check the wound.  \\n3. **Add more layers if needed** – If the first cloth soaks through, place a second one on top without removing the first.  \\n4. **Elevate the injured limb** (if it’s a limb) while keeping the pressure.  \\n5. **Use a tourniquet only if necessary** – If direct pressure fails and the bleed is from an arm or leg, apply a tourniquet above the wound.  \\n6. **Note the time** – Record when you started applying pressure; this helps medical staff.  \\n7. **Call for help** – If bleeding is severe, continuous, or you’re unsure, get emergency services.\\n\\n*Source: “Severe Bleeding Control” – WHO Basic Emergency Care (B.E.C.)*\\n\\n---\\n\\n**If you’re dealing with a snakebite**\\n\\n1. **Keep the victim calm and still** – Movement speeds venom spread.  \\n2. **Remove tight items** – Take off rings, bracelets, watches, or tight clothing from the bitten limb.  \\n3. **Immobilize the limb** – Use a splint or a firm bandage; keep the bitten limb at or slightly below heart level.  \\n4. **Do NOT**  \\n   * Cut or try to suck out the venom.  \\n   * Apply ice or a tourniquet.  \\n   * Use a tourniquet unless absolutely necessary and you know how to apply it correctly.  \\n5. **Transport quickly to a medical facility** – Bring the victim to the nearest hospital that can administer antivenom.  \\n6. **Keep the victim warm and monitor breathing** – If breathing becomes difficult, be ready to perform CPR (hands‑only if trained).\\n\\n*Source: “Snakebite” – WHO SEARO – Snakebite Management*\\n\\n---\\n\\n**Quick recap**\\n\\n| Situation | Key first‑aid step |\\n|-----------|--------------------|\\n| Bleeding | Firm direct pressure; elevate; use tourniquet only if needed |\\n| Snakebite | Keep still; remove tight items; immobilize; avoid cutting/sucking; get medical help fast |\\n\\nIf you’re ever unsure, call emergency services right away.'"
      ]
     },
     "execution_count": 35,
     "metadata": {},
     "output_type": "execute_result"
    }
   ],
   "source": [
    "ans.content"
   ]
  },
  {
   "cell_type": "markdown",
   "id": "85a76fe6",
   "metadata": {},
   "source": [
    "### :)"
   ]
  },
  {
   "cell_type": "markdown",
   "id": "8e1d4a00",
   "metadata": {},
   "source": []
  }
 ],
 "metadata": {
  "kernelspec": {
   "display_name": "venv",
   "language": "python",
   "name": "python3"
  },
  "language_info": {
   "codemirror_mode": {
    "name": "ipython",
    "version": 3
   },
   "file_extension": ".py",
   "mimetype": "text/x-python",
   "name": "python",
   "nbconvert_exporter": "python",
   "pygments_lexer": "ipython3",
   "version": "3.13.5"
  }
 },
 "nbformat": 4,
 "nbformat_minor": 5
}
