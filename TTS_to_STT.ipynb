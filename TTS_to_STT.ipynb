{
 "cells": [
  {
   "cell_type": "code",
   "execution_count": 24,
   "metadata": {},
   "outputs": [
    {
     "name": "stdout",
     "output_type": "stream",
     "text": [
      "Note: you may need to restart the kernel to use updated packages.\n",
      "Note: you may need to restart the kernel to use updated packages.\n"
     ]
    }
   ],
   "source": [
    "%pip install -q --upgrade pip\n",
    "%pip install -q piper-tts"
   ]
  },
  {
   "cell_type": "code",
   "execution_count": 30,
   "metadata": {},
   "outputs": [
    {
     "name": "stdout",
     "output_type": "stream",
     "text": [
      "piper CLI: /Users/mukundsenthilkumar/Documents/Offline-AI-Kiosk/venv/bin/piper\n",
      "piper module: import ok\n"
     ]
    }
   ],
   "source": [
    "import shutil, sys\n",
    "print(\"piper CLI:\", shutil.which(\"piper\"))\n",
    "try:\n",
    "    import piper\n",
    "    print(\"piper module:\", getattr(piper, \"__version__\", \"import ok\"))\n",
    "except Exception as e:\n",
    "    print(\"import error:\", e)"
   ]
  },
  {
   "cell_type": "code",
   "execution_count": 25,
   "metadata": {},
   "outputs": [
    {
     "name": "stdout",
     "output_type": "stream",
     "text": [
      " Hi, Namaste. My name is Kartik. What is your name? What else should I say or should I keep talking? I went to school the day before yesterday and I was studying a lot. When I was studying, I had an injury in my leg and I was not able to walk. So what should I do? Enough.\n"
     ]
    }
   ],
   "source": [
    "\n",
    "from faster_whisper import WhisperModel\n",
    "model = WhisperModel(\"medium\", device=\"cpu\", compute_type=\"int8\")  # great on Apple Silicon\n",
    "segments, info = model.transcribe(\"WhisperDemoHi.m4a\", task=\"translate\", language=\"hi\")  # or task=\"transcribe\"\n",
    "text = \"\".join(s.text for s in segments)\n",
    "print(text)"
   ]
  },
  {
   "cell_type": "code",
   "execution_count": 44,
   "metadata": {},
   "outputs": [
    {
     "name": "stdout",
     "output_type": "stream",
     "text": [
      "🎙️ Recording... speak now\n",
      "||PaMacCore (AUHAL)|| Warning on line 521: err=''!obj'', msg=Unknown Error\n",
      "||PaMacCore (AUHAL)|| Warning on line 441: err=''!obj'', msg=Unknown Error\n",
      "||PaMacCore (AUHAL)|| Error on line 1322: err='-10851', msg=Audio Unit: Invalid Property Value\n"
     ]
    },
    {
     "ename": "PortAudioError",
     "evalue": "Error opening InputStream: Internal PortAudio error [PaErrorCode -9986]",
     "output_type": "error",
     "traceback": [
      "\u001b[31m---------------------------------------------------------------------------\u001b[39m",
      "\u001b[31mPortAudioError\u001b[39m                            Traceback (most recent call last)",
      "\u001b[36mCell\u001b[39m\u001b[36m \u001b[39m\u001b[32mIn[44]\u001b[39m\u001b[32m, line 15\u001b[39m\n\u001b[32m     12\u001b[39m OUT_WAV     = \u001b[33m\"\u001b[39m\u001b[33minput.wav\u001b[39m\u001b[33m\"\u001b[39m\n\u001b[32m     14\u001b[39m \u001b[38;5;28mprint\u001b[39m(\u001b[33m\"\u001b[39m\u001b[33m🎙️ Recording... speak now\u001b[39m\u001b[33m\"\u001b[39m)\n\u001b[32m---> \u001b[39m\u001b[32m15\u001b[39m audio = \u001b[43msd\u001b[49m\u001b[43m.\u001b[49m\u001b[43mrec\u001b[49m\u001b[43m(\u001b[49m\u001b[38;5;28;43mint\u001b[39;49m\u001b[43m(\u001b[49m\u001b[43mDURATION_S\u001b[49m\u001b[43m \u001b[49m\u001b[43m*\u001b[49m\u001b[43m \u001b[49m\u001b[43mSAMPLE_RATE\u001b[49m\u001b[43m)\u001b[49m\u001b[43m,\u001b[49m\u001b[43m \u001b[49m\u001b[43msamplerate\u001b[49m\u001b[43m=\u001b[49m\u001b[43mSAMPLE_RATE\u001b[49m\u001b[43m,\u001b[49m\u001b[43m \u001b[49m\u001b[43mchannels\u001b[49m\u001b[43m=\u001b[49m\u001b[32;43m1\u001b[39;49m\u001b[43m,\u001b[49m\u001b[43m \u001b[49m\u001b[43mdtype\u001b[49m\u001b[43m=\u001b[49m\u001b[33;43m'\u001b[39;49m\u001b[33;43mfloat32\u001b[39;49m\u001b[33;43m'\u001b[39;49m\u001b[43m)\u001b[49m\n\u001b[32m     16\u001b[39m sd.wait()\n\u001b[32m     17\u001b[39m audio_i16 = (audio * \u001b[32m32767\u001b[39m).astype(\u001b[33m\"\u001b[39m\u001b[33mint16\u001b[39m\u001b[33m\"\u001b[39m)\n",
      "\u001b[36mFile \u001b[39m\u001b[32m~/Documents/Offline-AI-Kiosk/venv/lib/python3.13/site-packages/sounddevice.py:279\u001b[39m, in \u001b[36mrec\u001b[39m\u001b[34m(frames, samplerate, channels, dtype, out, mapping, blocking, **kwargs)\u001b[39m\n\u001b[32m    276\u001b[39m     ctx.read_indata(indata)\n\u001b[32m    277\u001b[39m     ctx.callback_exit()\n\u001b[32m--> \u001b[39m\u001b[32m279\u001b[39m \u001b[43mctx\u001b[49m\u001b[43m.\u001b[49m\u001b[43mstart_stream\u001b[49m\u001b[43m(\u001b[49m\u001b[43mInputStream\u001b[49m\u001b[43m,\u001b[49m\u001b[43m \u001b[49m\u001b[43msamplerate\u001b[49m\u001b[43m,\u001b[49m\u001b[43m \u001b[49m\u001b[43mctx\u001b[49m\u001b[43m.\u001b[49m\u001b[43minput_channels\u001b[49m\u001b[43m,\u001b[49m\n\u001b[32m    280\u001b[39m \u001b[43m                 \u001b[49m\u001b[43mctx\u001b[49m\u001b[43m.\u001b[49m\u001b[43minput_dtype\u001b[49m\u001b[43m,\u001b[49m\u001b[43m \u001b[49m\u001b[43mcallback\u001b[49m\u001b[43m,\u001b[49m\u001b[43m \u001b[49m\u001b[43mblocking\u001b[49m\u001b[43m,\u001b[49m\u001b[43m \u001b[49m\u001b[43m*\u001b[49m\u001b[43m*\u001b[49m\u001b[43mkwargs\u001b[49m\u001b[43m)\u001b[49m\n\u001b[32m    281\u001b[39m \u001b[38;5;28;01mreturn\u001b[39;00m out\n",
      "\u001b[36mFile \u001b[39m\u001b[32m~/Documents/Offline-AI-Kiosk/venv/lib/python3.13/site-packages/sounddevice.py:2634\u001b[39m, in \u001b[36m_CallbackContext.start_stream\u001b[39m\u001b[34m(self, StreamClass, samplerate, channels, dtype, callback, blocking, **kwargs)\u001b[39m\n\u001b[32m   2631\u001b[39m \u001b[38;5;28;01mdef\u001b[39;00m\u001b[38;5;250m \u001b[39m\u001b[34mstart_stream\u001b[39m(\u001b[38;5;28mself\u001b[39m, StreamClass, samplerate, channels, dtype, callback,\n\u001b[32m   2632\u001b[39m                  blocking, **kwargs):\n\u001b[32m   2633\u001b[39m     stop()  \u001b[38;5;66;03m# Stop previous playback/recording\u001b[39;00m\n\u001b[32m-> \u001b[39m\u001b[32m2634\u001b[39m     \u001b[38;5;28mself\u001b[39m.stream = \u001b[43mStreamClass\u001b[49m\u001b[43m(\u001b[49m\u001b[43msamplerate\u001b[49m\u001b[43m=\u001b[49m\u001b[43msamplerate\u001b[49m\u001b[43m,\u001b[49m\n\u001b[32m   2635\u001b[39m \u001b[43m                              \u001b[49m\u001b[43mchannels\u001b[49m\u001b[43m=\u001b[49m\u001b[43mchannels\u001b[49m\u001b[43m,\u001b[49m\n\u001b[32m   2636\u001b[39m \u001b[43m                              \u001b[49m\u001b[43mdtype\u001b[49m\u001b[43m=\u001b[49m\u001b[43mdtype\u001b[49m\u001b[43m,\u001b[49m\n\u001b[32m   2637\u001b[39m \u001b[43m                              \u001b[49m\u001b[43mcallback\u001b[49m\u001b[43m=\u001b[49m\u001b[43mcallback\u001b[49m\u001b[43m,\u001b[49m\n\u001b[32m   2638\u001b[39m \u001b[43m                              \u001b[49m\u001b[43mfinished_callback\u001b[49m\u001b[43m=\u001b[49m\u001b[38;5;28;43mself\u001b[39;49m\u001b[43m.\u001b[49m\u001b[43mfinished_callback\u001b[49m\u001b[43m,\u001b[49m\n\u001b[32m   2639\u001b[39m \u001b[43m                              \u001b[49m\u001b[43m*\u001b[49m\u001b[43m*\u001b[49m\u001b[43mkwargs\u001b[49m\u001b[43m)\u001b[49m\n\u001b[32m   2640\u001b[39m     \u001b[38;5;28mself\u001b[39m.stream.start()\n\u001b[32m   2641\u001b[39m     \u001b[38;5;28;01mglobal\u001b[39;00m _last_callback\n",
      "\u001b[36mFile \u001b[39m\u001b[32m~/Documents/Offline-AI-Kiosk/venv/lib/python3.13/site-packages/sounddevice.py:1440\u001b[39m, in \u001b[36mInputStream.__init__\u001b[39m\u001b[34m(self, samplerate, blocksize, device, channels, dtype, latency, extra_settings, callback, finished_callback, clip_off, dither_off, never_drop_input, prime_output_buffers_using_stream_callback)\u001b[39m\n\u001b[32m   1408\u001b[39m \u001b[38;5;28;01mdef\u001b[39;00m\u001b[38;5;250m \u001b[39m\u001b[34m__init__\u001b[39m(\u001b[38;5;28mself\u001b[39m, samplerate=\u001b[38;5;28;01mNone\u001b[39;00m, blocksize=\u001b[38;5;28;01mNone\u001b[39;00m,\n\u001b[32m   1409\u001b[39m              device=\u001b[38;5;28;01mNone\u001b[39;00m, channels=\u001b[38;5;28;01mNone\u001b[39;00m, dtype=\u001b[38;5;28;01mNone\u001b[39;00m, latency=\u001b[38;5;28;01mNone\u001b[39;00m,\n\u001b[32m   1410\u001b[39m              extra_settings=\u001b[38;5;28;01mNone\u001b[39;00m, callback=\u001b[38;5;28;01mNone\u001b[39;00m, finished_callback=\u001b[38;5;28;01mNone\u001b[39;00m,\n\u001b[32m   1411\u001b[39m              clip_off=\u001b[38;5;28;01mNone\u001b[39;00m, dither_off=\u001b[38;5;28;01mNone\u001b[39;00m, never_drop_input=\u001b[38;5;28;01mNone\u001b[39;00m,\n\u001b[32m   1412\u001b[39m              prime_output_buffers_using_stream_callback=\u001b[38;5;28;01mNone\u001b[39;00m):\n\u001b[32m   1413\u001b[39m \u001b[38;5;250m    \u001b[39m\u001b[33;03m\"\"\"PortAudio input stream (using NumPy).\u001b[39;00m\n\u001b[32m   1414\u001b[39m \n\u001b[32m   1415\u001b[39m \u001b[33;03m    This has the same methods and attributes as `Stream`, except\u001b[39;00m\n\u001b[32m   (...)\u001b[39m\u001b[32m   1438\u001b[39m \n\u001b[32m   1439\u001b[39m \u001b[33;03m    \"\"\"\u001b[39;00m\n\u001b[32m-> \u001b[39m\u001b[32m1440\u001b[39m     \u001b[43m_StreamBase\u001b[49m\u001b[43m.\u001b[49m\u001b[34;43m__init__\u001b[39;49m\u001b[43m(\u001b[49m\u001b[38;5;28;43mself\u001b[39;49m\u001b[43m,\u001b[49m\u001b[43m \u001b[49m\u001b[43mkind\u001b[49m\u001b[43m=\u001b[49m\u001b[33;43m'\u001b[39;49m\u001b[33;43minput\u001b[39;49m\u001b[33;43m'\u001b[39;49m\u001b[43m,\u001b[49m\u001b[43m \u001b[49m\u001b[43mwrap_callback\u001b[49m\u001b[43m=\u001b[49m\u001b[33;43m'\u001b[39;49m\u001b[33;43marray\u001b[39;49m\u001b[33;43m'\u001b[39;49m\u001b[43m,\u001b[49m\n\u001b[32m   1441\u001b[39m \u001b[43m                         \u001b[49m\u001b[43m*\u001b[49m\u001b[43m*\u001b[49m\u001b[43m_remove_self\u001b[49m\u001b[43m(\u001b[49m\u001b[38;5;28;43mlocals\u001b[39;49m\u001b[43m(\u001b[49m\u001b[43m)\u001b[49m\u001b[43m)\u001b[49m\u001b[43m)\u001b[49m\n",
      "\u001b[36mFile \u001b[39m\u001b[32m~/Documents/Offline-AI-Kiosk/venv/lib/python3.13/site-packages/sounddevice.py:909\u001b[39m, in \u001b[36m_StreamBase.__init__\u001b[39m\u001b[34m(self, kind, samplerate, blocksize, device, channels, dtype, latency, extra_settings, callback, finished_callback, clip_off, dither_off, never_drop_input, prime_output_buffers_using_stream_callback, userdata, wrap_callback)\u001b[39m\n\u001b[32m    907\u001b[39m     userdata = _ffi.NULL\n\u001b[32m    908\u001b[39m \u001b[38;5;28mself\u001b[39m._ptr = _ffi.new(\u001b[33m'\u001b[39m\u001b[33mPaStream**\u001b[39m\u001b[33m'\u001b[39m)\n\u001b[32m--> \u001b[39m\u001b[32m909\u001b[39m \u001b[43m_check\u001b[49m\u001b[43m(\u001b[49m\u001b[43m_lib\u001b[49m\u001b[43m.\u001b[49m\u001b[43mPa_OpenStream\u001b[49m\u001b[43m(\u001b[49m\u001b[38;5;28;43mself\u001b[39;49m\u001b[43m.\u001b[49m\u001b[43m_ptr\u001b[49m\u001b[43m,\u001b[49m\u001b[43m \u001b[49m\u001b[43miparameters\u001b[49m\u001b[43m,\u001b[49m\u001b[43m \u001b[49m\u001b[43moparameters\u001b[49m\u001b[43m,\u001b[49m\n\u001b[32m    910\u001b[39m \u001b[43m                          \u001b[49m\u001b[43msamplerate\u001b[49m\u001b[43m,\u001b[49m\u001b[43m \u001b[49m\u001b[43mblocksize\u001b[49m\u001b[43m,\u001b[49m\u001b[43m \u001b[49m\u001b[43mstream_flags\u001b[49m\u001b[43m,\u001b[49m\n\u001b[32m    911\u001b[39m \u001b[43m                          \u001b[49m\u001b[43mcallback_ptr\u001b[49m\u001b[43m,\u001b[49m\u001b[43m \u001b[49m\u001b[43muserdata\u001b[49m\u001b[43m)\u001b[49m\u001b[43m,\u001b[49m\n\u001b[32m    912\u001b[39m \u001b[43m       \u001b[49m\u001b[33;43mf\u001b[39;49m\u001b[33;43m'\u001b[39;49m\u001b[33;43mError opening \u001b[39;49m\u001b[38;5;132;43;01m{\u001b[39;49;00m\u001b[38;5;28;43mself\u001b[39;49m\u001b[43m.\u001b[49m\u001b[34;43m__class__\u001b[39;49m\u001b[43m.\u001b[49m\u001b[34;43m__name__\u001b[39;49m\u001b[38;5;132;43;01m}\u001b[39;49;00m\u001b[33;43m'\u001b[39;49m\u001b[43m)\u001b[49m\n\u001b[32m    914\u001b[39m \u001b[38;5;66;03m# dereference PaStream** --> PaStream*\u001b[39;00m\n\u001b[32m    915\u001b[39m \u001b[38;5;28mself\u001b[39m._ptr = \u001b[38;5;28mself\u001b[39m._ptr[\u001b[32m0\u001b[39m]\n",
      "\u001b[36mFile \u001b[39m\u001b[32m~/Documents/Offline-AI-Kiosk/venv/lib/python3.13/site-packages/sounddevice.py:2804\u001b[39m, in \u001b[36m_check\u001b[39m\u001b[34m(err, msg)\u001b[39m\n\u001b[32m   2801\u001b[39m     hosterror_info = host_api, info.errorCode, hosterror_text\n\u001b[32m   2802\u001b[39m     \u001b[38;5;28;01mraise\u001b[39;00m PortAudioError(errormsg, err, hosterror_info)\n\u001b[32m-> \u001b[39m\u001b[32m2804\u001b[39m \u001b[38;5;28;01mraise\u001b[39;00m PortAudioError(errormsg, err)\n",
      "\u001b[31mPortAudioError\u001b[39m: Error opening InputStream: Internal PortAudio error [PaErrorCode -9986]"
     ]
    }
   ],
   "source": [
    "import sounddevice as sd\n",
    "from scipy.io.wavfile import write\n",
    "import numpy as np\n",
    "import os\n",
    "\n",
    "file_path = \"/Users/mukundsenthilkumar/Documents/Offline-AI-Kiosk/input.wav\"\n",
    "if os.path.exists(file_path):\n",
    "    os.remove(file_path)\n",
    "\n",
    "SAMPLE_RATE = 16000\n",
    "DURATION_S  = 5\n",
    "OUT_WAV     = \"input.wav\"\n",
    "\n",
    "print(\"🎙️ Recording... speak now\")\n",
    "audio = sd.rec(int(DURATION_S * SAMPLE_RATE), samplerate=SAMPLE_RATE, channels=1, dtype='float32')\n",
    "sd.wait()\n",
    "audio_i16 = (audio * 32767).astype(\"int16\")\n",
    "write(OUT_WAV, SAMPLE_RATE, audio_i16)\n",
    "print(f\"✅ Saved {OUT_WAV}\")\n",
    "\n",
    "from faster_whisper import WhisperModel\n",
    "model = WhisperModel(\"medium\", device=\"cpu\", compute_type=\"int8\")  # great on Apple Silicon\n",
    "segments, info = model.transcribe(\"input.wav\", task=\"translate\", language=\"hi\")  # or task=\"transcribe\"\n",
    "text = \"\".join(s.text for s in segments)\n",
    "print(text)"
   ]
  },
  {
   "cell_type": "code",
   "execution_count": 43,
   "metadata": {},
   "outputs": [
    {
     "name": "stderr",
     "output_type": "stream",
     "text": [
      "Traceback (most recent call last):\n",
      "  File \u001b[35m\"/Users/mukundsenthilkumar/Documents/Offline-AI-Kiosk/venv/bin/piper\"\u001b[0m, line \u001b[35m7\u001b[0m, in \u001b[35m<module>\u001b[0m\n",
      "    sys.exit(\u001b[31mmain\u001b[0m\u001b[1;31m()\u001b[0m)\n",
      "             \u001b[31m~~~~\u001b[0m\u001b[1;31m^^\u001b[0m\n",
      "  File \u001b[35m\"/Users/mukundsenthilkumar/Documents/Offline-AI-Kiosk/venv/lib/python3.13/site-packages/piper/__main__.py\"\u001b[0m, line \u001b[35m136\u001b[0m, in \u001b[35mmain\u001b[0m\n",
      "    raise ValueError(\n",
      "        f\"Unable to find voice: {model_path} (use piper.download_voices)\"\n",
      "    )\n",
      "\u001b[1;35mValueError\u001b[0m: \u001b[35mUnable to find voice: /Users/mukundsenthilkumar/Documents/Offline-AI-Kiosk/voices/en_US-hfc_male.onnx (use piper.download_voices)\u001b[0m\n"
     ]
    },
    {
     "ename": "CalledProcessError",
     "evalue": "Command '['/Users/mukundsenthilkumar/Documents/Offline-AI-Kiosk/venv/bin/piper', '-m', '/Users/mukundsenthilkumar/Documents/Offline-AI-Kiosk/voices/en_US-hfc_male.onnx', '-f', 'hello.wav']' returned non-zero exit status 1.",
     "output_type": "error",
     "traceback": [
      "\u001b[31m---------------------------------------------------------------------------\u001b[39m",
      "\u001b[31mCalledProcessError\u001b[39m                        Traceback (most recent call last)",
      "\u001b[36mCell\u001b[39m\u001b[36m \u001b[39m\u001b[32mIn[43]\u001b[39m\u001b[32m, line 9\u001b[39m\n\u001b[32m      6\u001b[39m VOICE = \u001b[38;5;28mstr\u001b[39m(Path(\u001b[33m\"\u001b[39m\u001b[33mvoices/en_US-hfc_male.onnx\u001b[39m\u001b[33m\"\u001b[39m).resolve())\n\u001b[32m      8\u001b[39m cmd = ([PIPER] \u001b[38;5;28;01mif\u001b[39;00m \u001b[38;5;28misinstance\u001b[39m(PIPER, \u001b[38;5;28mstr\u001b[39m) \u001b[38;5;28;01melse\u001b[39;00m PIPER) + [\u001b[33m\"\u001b[39m\u001b[33m-m\u001b[39m\u001b[33m\"\u001b[39m, VOICE, \u001b[33m\"\u001b[39m\u001b[33m-f\u001b[39m\u001b[33m\"\u001b[39m, \u001b[33m\"\u001b[39m\u001b[33mhello.wav\u001b[39m\u001b[33m\"\u001b[39m]\n\u001b[32m----> \u001b[39m\u001b[32m9\u001b[39m \u001b[43msubprocess\u001b[49m\u001b[43m.\u001b[49m\u001b[43mrun\u001b[49m\u001b[43m(\u001b[49m\u001b[43mcmd\u001b[49m\u001b[43m,\u001b[49m\u001b[43m \u001b[49m\u001b[38;5;28;43minput\u001b[39;49m\u001b[43m=\u001b[49m\u001b[33;43m\"\u001b[39;49m\u001b[33;43mHello from Piper.\u001b[39;49m\u001b[33;43m\"\u001b[39;49m\u001b[43m.\u001b[49m\u001b[43mencode\u001b[49m\u001b[43m(\u001b[49m\u001b[33;43m\"\u001b[39;49m\u001b[33;43mutf-8\u001b[39;49m\u001b[33;43m\"\u001b[39;49m\u001b[43m)\u001b[49m\u001b[43m,\u001b[49m\u001b[43m \u001b[49m\u001b[43mcheck\u001b[49m\u001b[43m=\u001b[49m\u001b[38;5;28;43;01mTrue\u001b[39;49;00m\u001b[43m)\u001b[49m\n\u001b[32m     10\u001b[39m display(Audio(\u001b[33m\"\u001b[39m\u001b[33mhello.wav\u001b[39m\u001b[33m\"\u001b[39m, autoplay=\u001b[38;5;28;01mTrue\u001b[39;00m))\n",
      "\u001b[36mFile \u001b[39m\u001b[32m/opt/homebrew/Cellar/python@3.13/3.13.3/Frameworks/Python.framework/Versions/3.13/lib/python3.13/subprocess.py:577\u001b[39m, in \u001b[36mrun\u001b[39m\u001b[34m(input, capture_output, timeout, check, *popenargs, **kwargs)\u001b[39m\n\u001b[32m    575\u001b[39m     retcode = process.poll()\n\u001b[32m    576\u001b[39m     \u001b[38;5;28;01mif\u001b[39;00m check \u001b[38;5;129;01mand\u001b[39;00m retcode:\n\u001b[32m--> \u001b[39m\u001b[32m577\u001b[39m         \u001b[38;5;28;01mraise\u001b[39;00m CalledProcessError(retcode, process.args,\n\u001b[32m    578\u001b[39m                                  output=stdout, stderr=stderr)\n\u001b[32m    579\u001b[39m \u001b[38;5;28;01mreturn\u001b[39;00m CompletedProcess(process.args, retcode, stdout, stderr)\n",
      "\u001b[31mCalledProcessError\u001b[39m: Command '['/Users/mukundsenthilkumar/Documents/Offline-AI-Kiosk/venv/bin/piper', '-m', '/Users/mukundsenthilkumar/Documents/Offline-AI-Kiosk/voices/en_US-hfc_male.onnx', '-f', 'hello.wav']' returned non-zero exit status 1."
     ]
    }
   ],
   "source": [
    "import shutil, sys, subprocess\n",
    "from IPython.display import Audio, display\n",
    "from pathlib import Path\n",
    "\n",
    "PIPER = shutil.which(\"piper\") or [sys.executable, \"-m\", \"piper\"]\n",
    "VOICE = str(Path(\"voices/en_US-hfc_male.onnx\").resolve())\n",
    "\n",
    "cmd = ([PIPER] if isinstance(PIPER, str) else PIPER) + [\"-m\", VOICE, \"-f\", \"hello.wav\"]\n",
    "subprocess.run(cmd, input=\"Hello from Piper.\".encode(\"utf-8\"), check=True)\n",
    "display(Audio(\"hello.wav\", autoplay=True))\n"
   ]
  },
  {
   "cell_type": "code",
   "execution_count": 42,
   "metadata": {},
   "outputs": [
    {
     "ename": "HTTPError",
     "evalue": "HTTP Error 404: Not Found",
     "output_type": "error",
     "traceback": [
      "\u001b[31m---------------------------------------------------------------------------\u001b[39m",
      "\u001b[31mHTTPError\u001b[39m                                 Traceback (most recent call last)",
      "\u001b[36mCell\u001b[39m\u001b[36m \u001b[39m\u001b[32mIn[42]\u001b[39m\u001b[32m, line 10\u001b[39m\n\u001b[32m      7\u001b[39m     lines = urllib.request.urlopen(req).read().decode().splitlines()\n\u001b[32m      8\u001b[39m     \u001b[38;5;28;01mreturn\u001b[39;00m [json.loads(l) \u001b[38;5;28;01mfor\u001b[39;00m l \u001b[38;5;129;01min\u001b[39;00m lines]\n\u001b[32m---> \u001b[39m\u001b[32m10\u001b[39m voices = \u001b[43mload_index\u001b[49m\u001b[43m(\u001b[49m\u001b[43m)\u001b[49m\n\u001b[32m     12\u001b[39m \u001b[38;5;66;03m# Show some English voices (name | quality | speaker if provided)\u001b[39;00m\n\u001b[32m     13\u001b[39m \u001b[38;5;28;01mfor\u001b[39;00m v \u001b[38;5;129;01min\u001b[39;00m voices:\n",
      "\u001b[36mCell\u001b[39m\u001b[36m \u001b[39m\u001b[32mIn[42]\u001b[39m\u001b[32m, line 7\u001b[39m, in \u001b[36mload_index\u001b[39m\u001b[34m()\u001b[39m\n\u001b[32m      5\u001b[39m \u001b[38;5;28;01mdef\u001b[39;00m\u001b[38;5;250m \u001b[39m\u001b[34mload_index\u001b[39m():\n\u001b[32m      6\u001b[39m     req = urllib.request.Request(INDEX_URL, headers={\u001b[33m\"\u001b[39m\u001b[33mUser-Agent\u001b[39m\u001b[33m\"\u001b[39m: \u001b[33m\"\u001b[39m\u001b[33mMozilla/5.0\u001b[39m\u001b[33m\"\u001b[39m})\n\u001b[32m----> \u001b[39m\u001b[32m7\u001b[39m     lines = \u001b[43murllib\u001b[49m\u001b[43m.\u001b[49m\u001b[43mrequest\u001b[49m\u001b[43m.\u001b[49m\u001b[43murlopen\u001b[49m\u001b[43m(\u001b[49m\u001b[43mreq\u001b[49m\u001b[43m)\u001b[49m.read().decode().splitlines()\n\u001b[32m      8\u001b[39m     \u001b[38;5;28;01mreturn\u001b[39;00m [json.loads(l) \u001b[38;5;28;01mfor\u001b[39;00m l \u001b[38;5;129;01min\u001b[39;00m lines]\n",
      "\u001b[36mFile \u001b[39m\u001b[32m/opt/homebrew/Cellar/python@3.13/3.13.3/Frameworks/Python.framework/Versions/3.13/lib/python3.13/urllib/request.py:189\u001b[39m, in \u001b[36murlopen\u001b[39m\u001b[34m(url, data, timeout, context)\u001b[39m\n\u001b[32m    187\u001b[39m \u001b[38;5;28;01melse\u001b[39;00m:\n\u001b[32m    188\u001b[39m     opener = _opener\n\u001b[32m--> \u001b[39m\u001b[32m189\u001b[39m \u001b[38;5;28;01mreturn\u001b[39;00m \u001b[43mopener\u001b[49m\u001b[43m.\u001b[49m\u001b[43mopen\u001b[49m\u001b[43m(\u001b[49m\u001b[43murl\u001b[49m\u001b[43m,\u001b[49m\u001b[43m \u001b[49m\u001b[43mdata\u001b[49m\u001b[43m,\u001b[49m\u001b[43m \u001b[49m\u001b[43mtimeout\u001b[49m\u001b[43m)\u001b[49m\n",
      "\u001b[36mFile \u001b[39m\u001b[32m/opt/homebrew/Cellar/python@3.13/3.13.3/Frameworks/Python.framework/Versions/3.13/lib/python3.13/urllib/request.py:495\u001b[39m, in \u001b[36mOpenerDirector.open\u001b[39m\u001b[34m(self, fullurl, data, timeout)\u001b[39m\n\u001b[32m    493\u001b[39m \u001b[38;5;28;01mfor\u001b[39;00m processor \u001b[38;5;129;01min\u001b[39;00m \u001b[38;5;28mself\u001b[39m.process_response.get(protocol, []):\n\u001b[32m    494\u001b[39m     meth = \u001b[38;5;28mgetattr\u001b[39m(processor, meth_name)\n\u001b[32m--> \u001b[39m\u001b[32m495\u001b[39m     response = \u001b[43mmeth\u001b[49m\u001b[43m(\u001b[49m\u001b[43mreq\u001b[49m\u001b[43m,\u001b[49m\u001b[43m \u001b[49m\u001b[43mresponse\u001b[49m\u001b[43m)\u001b[49m\n\u001b[32m    497\u001b[39m \u001b[38;5;28;01mreturn\u001b[39;00m response\n",
      "\u001b[36mFile \u001b[39m\u001b[32m/opt/homebrew/Cellar/python@3.13/3.13.3/Frameworks/Python.framework/Versions/3.13/lib/python3.13/urllib/request.py:604\u001b[39m, in \u001b[36mHTTPErrorProcessor.http_response\u001b[39m\u001b[34m(self, request, response)\u001b[39m\n\u001b[32m    601\u001b[39m \u001b[38;5;66;03m# According to RFC 2616, \"2xx\" code indicates that the client's\u001b[39;00m\n\u001b[32m    602\u001b[39m \u001b[38;5;66;03m# request was successfully received, understood, and accepted.\u001b[39;00m\n\u001b[32m    603\u001b[39m \u001b[38;5;28;01mif\u001b[39;00m \u001b[38;5;129;01mnot\u001b[39;00m (\u001b[32m200\u001b[39m <= code < \u001b[32m300\u001b[39m):\n\u001b[32m--> \u001b[39m\u001b[32m604\u001b[39m     response = \u001b[38;5;28;43mself\u001b[39;49m\u001b[43m.\u001b[49m\u001b[43mparent\u001b[49m\u001b[43m.\u001b[49m\u001b[43merror\u001b[49m\u001b[43m(\u001b[49m\n\u001b[32m    605\u001b[39m \u001b[43m        \u001b[49m\u001b[33;43m'\u001b[39;49m\u001b[33;43mhttp\u001b[39;49m\u001b[33;43m'\u001b[39;49m\u001b[43m,\u001b[49m\u001b[43m \u001b[49m\u001b[43mrequest\u001b[49m\u001b[43m,\u001b[49m\u001b[43m \u001b[49m\u001b[43mresponse\u001b[49m\u001b[43m,\u001b[49m\u001b[43m \u001b[49m\u001b[43mcode\u001b[49m\u001b[43m,\u001b[49m\u001b[43m \u001b[49m\u001b[43mmsg\u001b[49m\u001b[43m,\u001b[49m\u001b[43m \u001b[49m\u001b[43mhdrs\u001b[49m\u001b[43m)\u001b[49m\n\u001b[32m    607\u001b[39m \u001b[38;5;28;01mreturn\u001b[39;00m response\n",
      "\u001b[36mFile \u001b[39m\u001b[32m/opt/homebrew/Cellar/python@3.13/3.13.3/Frameworks/Python.framework/Versions/3.13/lib/python3.13/urllib/request.py:533\u001b[39m, in \u001b[36mOpenerDirector.error\u001b[39m\u001b[34m(self, proto, *args)\u001b[39m\n\u001b[32m    531\u001b[39m \u001b[38;5;28;01mif\u001b[39;00m http_err:\n\u001b[32m    532\u001b[39m     args = (\u001b[38;5;28mdict\u001b[39m, \u001b[33m'\u001b[39m\u001b[33mdefault\u001b[39m\u001b[33m'\u001b[39m, \u001b[33m'\u001b[39m\u001b[33mhttp_error_default\u001b[39m\u001b[33m'\u001b[39m) + orig_args\n\u001b[32m--> \u001b[39m\u001b[32m533\u001b[39m     \u001b[38;5;28;01mreturn\u001b[39;00m \u001b[38;5;28;43mself\u001b[39;49m\u001b[43m.\u001b[49m\u001b[43m_call_chain\u001b[49m\u001b[43m(\u001b[49m\u001b[43m*\u001b[49m\u001b[43margs\u001b[49m\u001b[43m)\u001b[49m\n",
      "\u001b[36mFile \u001b[39m\u001b[32m/opt/homebrew/Cellar/python@3.13/3.13.3/Frameworks/Python.framework/Versions/3.13/lib/python3.13/urllib/request.py:466\u001b[39m, in \u001b[36mOpenerDirector._call_chain\u001b[39m\u001b[34m(self, chain, kind, meth_name, *args)\u001b[39m\n\u001b[32m    464\u001b[39m \u001b[38;5;28;01mfor\u001b[39;00m handler \u001b[38;5;129;01min\u001b[39;00m handlers:\n\u001b[32m    465\u001b[39m     func = \u001b[38;5;28mgetattr\u001b[39m(handler, meth_name)\n\u001b[32m--> \u001b[39m\u001b[32m466\u001b[39m     result = \u001b[43mfunc\u001b[49m\u001b[43m(\u001b[49m\u001b[43m*\u001b[49m\u001b[43margs\u001b[49m\u001b[43m)\u001b[49m\n\u001b[32m    467\u001b[39m     \u001b[38;5;28;01mif\u001b[39;00m result \u001b[38;5;129;01mis\u001b[39;00m \u001b[38;5;129;01mnot\u001b[39;00m \u001b[38;5;28;01mNone\u001b[39;00m:\n\u001b[32m    468\u001b[39m         \u001b[38;5;28;01mreturn\u001b[39;00m result\n",
      "\u001b[36mFile \u001b[39m\u001b[32m/opt/homebrew/Cellar/python@3.13/3.13.3/Frameworks/Python.framework/Versions/3.13/lib/python3.13/urllib/request.py:613\u001b[39m, in \u001b[36mHTTPDefaultErrorHandler.http_error_default\u001b[39m\u001b[34m(self, req, fp, code, msg, hdrs)\u001b[39m\n\u001b[32m    612\u001b[39m \u001b[38;5;28;01mdef\u001b[39;00m\u001b[38;5;250m \u001b[39m\u001b[34mhttp_error_default\u001b[39m(\u001b[38;5;28mself\u001b[39m, req, fp, code, msg, hdrs):\n\u001b[32m--> \u001b[39m\u001b[32m613\u001b[39m     \u001b[38;5;28;01mraise\u001b[39;00m HTTPError(req.full_url, code, msg, hdrs, fp)\n",
      "\u001b[31mHTTPError\u001b[39m: HTTP Error 404: Not Found"
     ]
    }
   ],
   "source": [
    "import json, urllib.request\n",
    "\n",
    "INDEX_URL = \"https://huggingface.co/rhasspy/piper-voices/raw/main/voices.jsonl\"\n",
    "\n",
    "def load_index():\n",
    "    req = urllib.request.Request(INDEX_URL, headers={\"User-Agent\": \"Mozilla/5.0\"})\n",
    "    lines = urllib.request.urlopen(req).read().decode().splitlines()\n",
    "    return [json.loads(l) for l in lines]\n",
    "\n",
    "voices = load_index()\n",
    "\n",
    "# Show some English voices (name | quality | speaker if provided)\n",
    "for v in voices:\n",
    "    if v[\"language\"][\"code\"].startswith(\"en\"):\n",
    "        print(f'{v[\"model\"][\"name\"]:<30} | {v[\"quality\"]:<6} | {v.get(\"speaker\",\"\")}')"
   ]
  }
 ],
 "metadata": {
  "kernelspec": {
   "display_name": "venv",
   "language": "python",
   "name": "python3"
  },
  "language_info": {
   "codemirror_mode": {
    "name": "ipython",
    "version": 3
   },
   "file_extension": ".py",
   "mimetype": "text/x-python",
   "name": "python",
   "nbconvert_exporter": "python",
   "pygments_lexer": "ipython3",
   "version": "3.13.3"
  }
 },
 "nbformat": 4,
 "nbformat_minor": 2
}
