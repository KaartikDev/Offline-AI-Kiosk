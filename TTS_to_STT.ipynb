{
 "cells": [
  {
   "cell_type": "markdown",
   "metadata": {},
   "source": [
    "Demo"
   ]
  },
  {
   "cell_type": "code",
   "execution_count": 18,
   "metadata": {},
   "outputs": [
    {
     "name": "stdout",
     "output_type": "stream",
     "text": [
      " Hi, Namaste, my name is Kartik. What is your name? What else should I say or should I keep talking? I went to school the day before yesterday and I was studying a lot there. When I was studying, I had an injury in my leg and I was not able to walk. So what should I do?\n"
     ]
    }
   ],
   "source": [
    "\n",
    "from faster_whisper import WhisperModel\n",
    "model = WhisperModel(\"medium\", device=\"cpu\", compute_type=\"int8\")  # great on Apple Silicon\n",
    "segments, info = model.transcribe(\"WhisperDemoHi.m4a\", task=\"transcribe\", language=\"en\")  # or task=\"transcribe\"\n",
    "text = \"\".join(s.text for s in segments)\n",
    "print(text)"
   ]
  },
  {
   "cell_type": "code",
   "execution_count": 14,
   "metadata": {},
   "outputs": [
    {
     "name": "stdout",
     "output_type": "stream",
     "text": [
      "🎙️ Recording... speak now\n",
      "✅ Saved input.wav\n",
      " Let's be positive, don't you know?\n"
     ]
    }
   ],
   "source": [
    "import sounddevice as sd\n",
    "from scipy.io.wavfile import write\n",
    "import numpy as np\n",
    "import os\n",
    "\n",
    "file_path = \"/Users/mukundsenthilkumar/Documents/Offline-AI-Kiosk/input.wav\"\n",
    "os.remove(file_path)\n",
    "\n",
    "SAMPLE_RATE = 16000\n",
    "DURATION_S  = 5\n",
    "OUT_WAV     = \"input.wav\"\n",
    "\n",
    "print(\"🎙️ Recording... speak now\")\n",
    "audio = sd.rec(int(DURATION_S * SAMPLE_RATE), samplerate=SAMPLE_RATE, channels=1, dtype='float32')\n",
    "sd.wait()\n",
    "audio_i16 = (audio * 32767).astype(\"int16\")\n",
    "write(OUT_WAV, SAMPLE_RATE, audio_i16)\n",
    "print(f\"✅ Saved {OUT_WAV}\")\n",
    "\n",
    "from faster_whisper import WhisperModel\n",
    "model = WhisperModel(\"medium\", device=\"cpu\", compute_type=\"int8\")  # great on Apple Silicon\n",
    "segments, info = model.transcribe(\"input.wav\", task=\"translate\", language=\"hi\")  # or task=\"transcribe\"\n",
    "text = \"\".join(s.text for s in segments)\n",
    "print(text)"
   ]
  }
 ],
 "metadata": {
  "kernelspec": {
   "display_name": "venv",
   "language": "python",
   "name": "python3"
  },
  "language_info": {
   "codemirror_mode": {
    "name": "ipython",
    "version": 3
   },
   "file_extension": ".py",
   "mimetype": "text/x-python",
   "name": "python",
   "nbconvert_exporter": "python",
   "pygments_lexer": "ipython3",
   "version": "3.13.3"
  }
 },
 "nbformat": 4,
 "nbformat_minor": 2
}
